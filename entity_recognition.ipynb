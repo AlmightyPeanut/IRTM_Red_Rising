{
 "cells": [
  {
   "cell_type": "code",
   "execution_count": null,
   "metadata": {
    "collapsed": true,
    "pycharm": {
     "name": "#%%\n"
    }
   },
   "outputs": [],
   "source": [
    "# Idea: entity recognition -> coreference resolution -> emotion analysis between entities"
   ]
  },
  {
   "cell_type": "code",
   "execution_count": 4,
   "outputs": [],
   "source": [
    "import ast\n",
    "import os\n",
    "import stanza\n",
    "import pandas as pd\n",
    "import numpy as np\n",
    "import matplotlib.pyplot as plt\n",
    "import pickle\n",
    "\n",
    "from divide_chapters import _PREPROCESSED_PATH"
   ],
   "metadata": {
    "collapsed": false,
    "pycharm": {
     "name": "#%%\n"
    }
   }
  },
  {
   "cell_type": "code",
   "execution_count": 5,
   "outputs": [
    {
     "name": "stderr",
     "output_type": "stream",
     "text": [
      "/var/folders/nl/063yds355gn2cv90cc5fk6cw0000gn/T/ipykernel_90900/2804347975.py:15: FutureWarning: The default value of regex will change from True to False in a future version.\n",
      "  text_df.chapter = text_df.chapter.str.replace('.txt', '')\n"
     ]
    }
   ],
   "source": [
    "text_df = pd.DataFrame(columns=[\"book\", \"chapter\", \"text\"])\n",
    "\n",
    "for book in os.scandir(\"../text_data/preprocessed\"):\n",
    "    chapters = os.listdir(book.path)\n",
    "    chapters.sort(key=lambda x: int(x.split('_')[0]))\n",
    "    for chapter in chapters:\n",
    "        with open(os.path.join(book.path, chapter), 'r') as chpt_file:\n",
    "            chpt_text = chpt_file.read()\n",
    "            text_df.loc[len(text_df.index)] = pd.Series({\n",
    "                \"book\": book.name,\n",
    "                \"chapter\": chapter,\n",
    "                \"text\": chpt_text\n",
    "            })\n",
    "\n",
    "text_df.chapter = text_df.chapter.str.replace('.txt', '')"
   ],
   "metadata": {
    "collapsed": false,
    "pycharm": {
     "name": "#%%\n"
    }
   }
  },
  {
   "cell_type": "code",
   "execution_count": 6,
   "outputs": [
    {
     "name": "stderr",
     "output_type": "stream",
     "text": [
      "INFO:stanza:Loading these models for language: en (English):\n",
      "=========================\n",
      "| Processor | Package   |\n",
      "-------------------------\n",
      "| tokenize  | combined  |\n",
      "| ner       | ontonotes |\n",
      "=========================\n",
      "\n",
      "INFO:stanza:Use device: cpu\n",
      "INFO:stanza:Loading: tokenize\n",
      "INFO:stanza:Loading: ner\n",
      "INFO:stanza:Done loading processors!\n"
     ]
    }
   ],
   "source": [
    "ner = stanza.Pipeline(lang='en', processors='tokenize,ner')"
   ],
   "metadata": {
    "collapsed": false,
    "pycharm": {
     "name": "#%%\n"
    }
   }
  },
  {
   "cell_type": "code",
   "execution_count": 14,
   "outputs": [
    {
     "ename": "KeyboardInterrupt",
     "evalue": "",
     "output_type": "error",
     "traceback": [
      "\u001B[0;31m---------------------------------------------------------------------------\u001B[0m",
      "\u001B[0;31mKeyboardInterrupt\u001B[0m                         Traceback (most recent call last)",
      "Input \u001B[0;32mIn [14]\u001B[0m, in \u001B[0;36m<cell line: 1>\u001B[0;34m()\u001B[0m\n\u001B[0;32m----> 1\u001B[0m text_df[\u001B[38;5;124m'\u001B[39m\u001B[38;5;124mner\u001B[39m\u001B[38;5;124m'\u001B[39m] \u001B[38;5;241m=\u001B[39m \u001B[43mtext_df\u001B[49m\u001B[38;5;241;43m.\u001B[39;49m\u001B[43mtext\u001B[49m\u001B[38;5;241;43m.\u001B[39;49m\u001B[43mapply\u001B[49m\u001B[43m(\u001B[49m\u001B[43mner\u001B[49m\u001B[43m)\u001B[49m\n",
      "File \u001B[0;32m~/miniforge3/envs/irtm/lib/python3.9/site-packages/pandas/core/series.py:4433\u001B[0m, in \u001B[0;36mSeries.apply\u001B[0;34m(self, func, convert_dtype, args, **kwargs)\u001B[0m\n\u001B[1;32m   4323\u001B[0m \u001B[38;5;28;01mdef\u001B[39;00m \u001B[38;5;21mapply\u001B[39m(\n\u001B[1;32m   4324\u001B[0m     \u001B[38;5;28mself\u001B[39m,\n\u001B[1;32m   4325\u001B[0m     func: AggFuncType,\n\u001B[0;32m   (...)\u001B[0m\n\u001B[1;32m   4328\u001B[0m     \u001B[38;5;241m*\u001B[39m\u001B[38;5;241m*\u001B[39mkwargs,\n\u001B[1;32m   4329\u001B[0m ) \u001B[38;5;241m-\u001B[39m\u001B[38;5;241m>\u001B[39m DataFrame \u001B[38;5;241m|\u001B[39m Series:\n\u001B[1;32m   4330\u001B[0m     \u001B[38;5;124;03m\"\"\"\u001B[39;00m\n\u001B[1;32m   4331\u001B[0m \u001B[38;5;124;03m    Invoke function on values of Series.\u001B[39;00m\n\u001B[1;32m   4332\u001B[0m \n\u001B[0;32m   (...)\u001B[0m\n\u001B[1;32m   4431\u001B[0m \u001B[38;5;124;03m    dtype: float64\u001B[39;00m\n\u001B[1;32m   4432\u001B[0m \u001B[38;5;124;03m    \"\"\"\u001B[39;00m\n\u001B[0;32m-> 4433\u001B[0m     \u001B[38;5;28;01mreturn\u001B[39;00m \u001B[43mSeriesApply\u001B[49m\u001B[43m(\u001B[49m\u001B[38;5;28;43mself\u001B[39;49m\u001B[43m,\u001B[49m\u001B[43m \u001B[49m\u001B[43mfunc\u001B[49m\u001B[43m,\u001B[49m\u001B[43m \u001B[49m\u001B[43mconvert_dtype\u001B[49m\u001B[43m,\u001B[49m\u001B[43m \u001B[49m\u001B[43margs\u001B[49m\u001B[43m,\u001B[49m\u001B[43m \u001B[49m\u001B[43mkwargs\u001B[49m\u001B[43m)\u001B[49m\u001B[38;5;241;43m.\u001B[39;49m\u001B[43mapply\u001B[49m\u001B[43m(\u001B[49m\u001B[43m)\u001B[49m\n",
      "File \u001B[0;32m~/miniforge3/envs/irtm/lib/python3.9/site-packages/pandas/core/apply.py:1082\u001B[0m, in \u001B[0;36mSeriesApply.apply\u001B[0;34m(self)\u001B[0m\n\u001B[1;32m   1078\u001B[0m \u001B[38;5;28;01mif\u001B[39;00m \u001B[38;5;28misinstance\u001B[39m(\u001B[38;5;28mself\u001B[39m\u001B[38;5;241m.\u001B[39mf, \u001B[38;5;28mstr\u001B[39m):\n\u001B[1;32m   1079\u001B[0m     \u001B[38;5;66;03m# if we are a string, try to dispatch\u001B[39;00m\n\u001B[1;32m   1080\u001B[0m     \u001B[38;5;28;01mreturn\u001B[39;00m \u001B[38;5;28mself\u001B[39m\u001B[38;5;241m.\u001B[39mapply_str()\n\u001B[0;32m-> 1082\u001B[0m \u001B[38;5;28;01mreturn\u001B[39;00m \u001B[38;5;28;43mself\u001B[39;49m\u001B[38;5;241;43m.\u001B[39;49m\u001B[43mapply_standard\u001B[49m\u001B[43m(\u001B[49m\u001B[43m)\u001B[49m\n",
      "File \u001B[0;32m~/miniforge3/envs/irtm/lib/python3.9/site-packages/pandas/core/apply.py:1137\u001B[0m, in \u001B[0;36mSeriesApply.apply_standard\u001B[0;34m(self)\u001B[0m\n\u001B[1;32m   1131\u001B[0m         values \u001B[38;5;241m=\u001B[39m obj\u001B[38;5;241m.\u001B[39mastype(\u001B[38;5;28mobject\u001B[39m)\u001B[38;5;241m.\u001B[39m_values\n\u001B[1;32m   1132\u001B[0m         \u001B[38;5;66;03m# error: Argument 2 to \"map_infer\" has incompatible type\u001B[39;00m\n\u001B[1;32m   1133\u001B[0m         \u001B[38;5;66;03m# \"Union[Callable[..., Any], str, List[Union[Callable[..., Any], str]],\u001B[39;00m\n\u001B[1;32m   1134\u001B[0m         \u001B[38;5;66;03m# Dict[Hashable, Union[Union[Callable[..., Any], str],\u001B[39;00m\n\u001B[1;32m   1135\u001B[0m         \u001B[38;5;66;03m# List[Union[Callable[..., Any], str]]]]]\"; expected\u001B[39;00m\n\u001B[1;32m   1136\u001B[0m         \u001B[38;5;66;03m# \"Callable[[Any], Any]\"\u001B[39;00m\n\u001B[0;32m-> 1137\u001B[0m         mapped \u001B[38;5;241m=\u001B[39m \u001B[43mlib\u001B[49m\u001B[38;5;241;43m.\u001B[39;49m\u001B[43mmap_infer\u001B[49m\u001B[43m(\u001B[49m\n\u001B[1;32m   1138\u001B[0m \u001B[43m            \u001B[49m\u001B[43mvalues\u001B[49m\u001B[43m,\u001B[49m\n\u001B[1;32m   1139\u001B[0m \u001B[43m            \u001B[49m\u001B[43mf\u001B[49m\u001B[43m,\u001B[49m\u001B[43m  \u001B[49m\u001B[38;5;66;43;03m# type: ignore[arg-type]\u001B[39;49;00m\n\u001B[1;32m   1140\u001B[0m \u001B[43m            \u001B[49m\u001B[43mconvert\u001B[49m\u001B[38;5;241;43m=\u001B[39;49m\u001B[38;5;28;43mself\u001B[39;49m\u001B[38;5;241;43m.\u001B[39;49m\u001B[43mconvert_dtype\u001B[49m\u001B[43m,\u001B[49m\n\u001B[1;32m   1141\u001B[0m \u001B[43m        \u001B[49m\u001B[43m)\u001B[49m\n\u001B[1;32m   1143\u001B[0m \u001B[38;5;28;01mif\u001B[39;00m \u001B[38;5;28mlen\u001B[39m(mapped) \u001B[38;5;129;01mand\u001B[39;00m \u001B[38;5;28misinstance\u001B[39m(mapped[\u001B[38;5;241m0\u001B[39m], ABCSeries):\n\u001B[1;32m   1144\u001B[0m     \u001B[38;5;66;03m# GH#43986 Need to do list(mapped) in order to get treated as nested\u001B[39;00m\n\u001B[1;32m   1145\u001B[0m     \u001B[38;5;66;03m#  See also GH#25959 regarding EA support\u001B[39;00m\n\u001B[1;32m   1146\u001B[0m     \u001B[38;5;28;01mreturn\u001B[39;00m obj\u001B[38;5;241m.\u001B[39m_constructor_expanddim(\u001B[38;5;28mlist\u001B[39m(mapped), index\u001B[38;5;241m=\u001B[39mobj\u001B[38;5;241m.\u001B[39mindex)\n",
      "File \u001B[0;32m~/miniforge3/envs/irtm/lib/python3.9/site-packages/pandas/_libs/lib.pyx:2870\u001B[0m, in \u001B[0;36mpandas._libs.lib.map_infer\u001B[0;34m()\u001B[0m\n",
      "File \u001B[0;32m~/miniforge3/envs/irtm/lib/python3.9/site-packages/stanza/pipeline/core.py:229\u001B[0m, in \u001B[0;36mPipeline.__call__\u001B[0;34m(self, doc)\u001B[0m\n\u001B[1;32m    226\u001B[0m \u001B[38;5;28;01mdef\u001B[39;00m \u001B[38;5;21m__call__\u001B[39m(\u001B[38;5;28mself\u001B[39m, doc):\n\u001B[1;32m    227\u001B[0m     \u001B[38;5;28;01massert\u001B[39;00m \u001B[38;5;28many\u001B[39m([\u001B[38;5;28misinstance\u001B[39m(doc, \u001B[38;5;28mstr\u001B[39m), \u001B[38;5;28misinstance\u001B[39m(doc, \u001B[38;5;28mlist\u001B[39m),\n\u001B[1;32m    228\u001B[0m                 \u001B[38;5;28misinstance\u001B[39m(doc, Document)]), \u001B[38;5;124m'\u001B[39m\u001B[38;5;124minput should be either str, list or Document\u001B[39m\u001B[38;5;124m'\u001B[39m\n\u001B[0;32m--> 229\u001B[0m     doc \u001B[38;5;241m=\u001B[39m \u001B[38;5;28;43mself\u001B[39;49m\u001B[38;5;241;43m.\u001B[39;49m\u001B[43mprocess\u001B[49m\u001B[43m(\u001B[49m\u001B[43mdoc\u001B[49m\u001B[43m)\u001B[49m\n\u001B[1;32m    230\u001B[0m     \u001B[38;5;28;01mreturn\u001B[39;00m doc\n",
      "File \u001B[0;32m~/miniforge3/envs/irtm/lib/python3.9/site-packages/stanza/pipeline/core.py:223\u001B[0m, in \u001B[0;36mPipeline.process\u001B[0;34m(self, doc)\u001B[0m\n\u001B[1;32m    221\u001B[0m     \u001B[38;5;28;01mif\u001B[39;00m \u001B[38;5;28mself\u001B[39m\u001B[38;5;241m.\u001B[39mprocessors\u001B[38;5;241m.\u001B[39mget(processor_name):\n\u001B[1;32m    222\u001B[0m         process \u001B[38;5;241m=\u001B[39m \u001B[38;5;28mself\u001B[39m\u001B[38;5;241m.\u001B[39mprocessors[processor_name]\u001B[38;5;241m.\u001B[39mbulk_process \u001B[38;5;28;01mif\u001B[39;00m bulk \u001B[38;5;28;01melse\u001B[39;00m \u001B[38;5;28mself\u001B[39m\u001B[38;5;241m.\u001B[39mprocessors[processor_name]\u001B[38;5;241m.\u001B[39mprocess\n\u001B[0;32m--> 223\u001B[0m         doc \u001B[38;5;241m=\u001B[39m \u001B[43mprocess\u001B[49m\u001B[43m(\u001B[49m\u001B[43mdoc\u001B[49m\u001B[43m)\u001B[49m\n\u001B[1;32m    224\u001B[0m \u001B[38;5;28;01mreturn\u001B[39;00m doc\n",
      "File \u001B[0;32m~/miniforge3/envs/irtm/lib/python3.9/site-packages/stanza/pipeline/ner_processor.py:35\u001B[0m, in \u001B[0;36mNERProcessor.process\u001B[0;34m(self, document)\u001B[0m\n\u001B[1;32m     33\u001B[0m preds \u001B[38;5;241m=\u001B[39m []\n\u001B[1;32m     34\u001B[0m \u001B[38;5;28;01mfor\u001B[39;00m i, b \u001B[38;5;129;01min\u001B[39;00m \u001B[38;5;28menumerate\u001B[39m(batch):\n\u001B[0;32m---> 35\u001B[0m     preds \u001B[38;5;241m+\u001B[39m\u001B[38;5;241m=\u001B[39m \u001B[38;5;28;43mself\u001B[39;49m\u001B[38;5;241;43m.\u001B[39;49m\u001B[43mtrainer\u001B[49m\u001B[38;5;241;43m.\u001B[39;49m\u001B[43mpredict\u001B[49m\u001B[43m(\u001B[49m\u001B[43mb\u001B[49m\u001B[43m)\u001B[49m\n\u001B[1;32m     36\u001B[0m batch\u001B[38;5;241m.\u001B[39mdoc\u001B[38;5;241m.\u001B[39mset([doc\u001B[38;5;241m.\u001B[39mNER], [y \u001B[38;5;28;01mfor\u001B[39;00m x \u001B[38;5;129;01min\u001B[39;00m preds \u001B[38;5;28;01mfor\u001B[39;00m y \u001B[38;5;129;01min\u001B[39;00m x], to_token\u001B[38;5;241m=\u001B[39m\u001B[38;5;28;01mTrue\u001B[39;00m)\n\u001B[1;32m     37\u001B[0m \u001B[38;5;66;03m# collect entities into document attribute\u001B[39;00m\n",
      "File \u001B[0;32m~/miniforge3/envs/irtm/lib/python3.9/site-packages/stanza/models/ner/trainer.py:98\u001B[0m, in \u001B[0;36mTrainer.predict\u001B[0;34m(self, batch, unsort)\u001B[0m\n\u001B[1;32m     96\u001B[0m \u001B[38;5;28mself\u001B[39m\u001B[38;5;241m.\u001B[39mmodel\u001B[38;5;241m.\u001B[39meval()\n\u001B[1;32m     97\u001B[0m batch_size \u001B[38;5;241m=\u001B[39m word\u001B[38;5;241m.\u001B[39msize(\u001B[38;5;241m0\u001B[39m)\n\u001B[0;32m---> 98\u001B[0m _, logits, trans \u001B[38;5;241m=\u001B[39m \u001B[38;5;28;43mself\u001B[39;49m\u001B[38;5;241;43m.\u001B[39;49m\u001B[43mmodel\u001B[49m\u001B[43m(\u001B[49m\u001B[43mword\u001B[49m\u001B[43m,\u001B[49m\u001B[43m \u001B[49m\u001B[43mword_mask\u001B[49m\u001B[43m,\u001B[49m\u001B[43m \u001B[49m\u001B[43mwordchars\u001B[49m\u001B[43m,\u001B[49m\u001B[43m \u001B[49m\u001B[43mwordchars_mask\u001B[49m\u001B[43m,\u001B[49m\u001B[43m \u001B[49m\u001B[43mtags\u001B[49m\u001B[43m,\u001B[49m\u001B[43m \u001B[49m\u001B[43mword_orig_idx\u001B[49m\u001B[43m,\u001B[49m\u001B[43m \u001B[49m\u001B[43msentlens\u001B[49m\u001B[43m,\u001B[49m\u001B[43m \u001B[49m\u001B[43mwordlens\u001B[49m\u001B[43m,\u001B[49m\u001B[43m \u001B[49m\u001B[43mchars\u001B[49m\u001B[43m,\u001B[49m\u001B[43m \u001B[49m\u001B[43mcharoffsets\u001B[49m\u001B[43m,\u001B[49m\u001B[43m \u001B[49m\u001B[43mcharlens\u001B[49m\u001B[43m,\u001B[49m\u001B[43m \u001B[49m\u001B[43mchar_orig_idx\u001B[49m\u001B[43m)\u001B[49m\n\u001B[1;32m    100\u001B[0m \u001B[38;5;66;03m# decode\u001B[39;00m\n\u001B[1;32m    101\u001B[0m trans \u001B[38;5;241m=\u001B[39m trans\u001B[38;5;241m.\u001B[39mdata\u001B[38;5;241m.\u001B[39mcpu()\u001B[38;5;241m.\u001B[39mnumpy()\n",
      "File \u001B[0;32m~/PycharmProjects/IRTM/pytorch/torch/nn/modules/module.py:1130\u001B[0m, in \u001B[0;36mModule._call_impl\u001B[0;34m(self, *input, **kwargs)\u001B[0m\n\u001B[1;32m   1126\u001B[0m \u001B[38;5;66;03m# If we don't have any hooks, we want to skip the rest of the logic in\u001B[39;00m\n\u001B[1;32m   1127\u001B[0m \u001B[38;5;66;03m# this function, and just call forward.\u001B[39;00m\n\u001B[1;32m   1128\u001B[0m \u001B[38;5;28;01mif\u001B[39;00m \u001B[38;5;129;01mnot\u001B[39;00m (\u001B[38;5;28mself\u001B[39m\u001B[38;5;241m.\u001B[39m_backward_hooks \u001B[38;5;129;01mor\u001B[39;00m \u001B[38;5;28mself\u001B[39m\u001B[38;5;241m.\u001B[39m_forward_hooks \u001B[38;5;129;01mor\u001B[39;00m \u001B[38;5;28mself\u001B[39m\u001B[38;5;241m.\u001B[39m_forward_pre_hooks \u001B[38;5;129;01mor\u001B[39;00m _global_backward_hooks\n\u001B[1;32m   1129\u001B[0m         \u001B[38;5;129;01mor\u001B[39;00m _global_forward_hooks \u001B[38;5;129;01mor\u001B[39;00m _global_forward_pre_hooks):\n\u001B[0;32m-> 1130\u001B[0m     \u001B[38;5;28;01mreturn\u001B[39;00m \u001B[43mforward_call\u001B[49m\u001B[43m(\u001B[49m\u001B[38;5;241;43m*\u001B[39;49m\u001B[38;5;28;43minput\u001B[39;49m\u001B[43m,\u001B[49m\u001B[43m \u001B[49m\u001B[38;5;241;43m*\u001B[39;49m\u001B[38;5;241;43m*\u001B[39;49m\u001B[43mkwargs\u001B[49m\u001B[43m)\u001B[49m\n\u001B[1;32m   1131\u001B[0m \u001B[38;5;66;03m# Do not call functions when jit is used\u001B[39;00m\n\u001B[1;32m   1132\u001B[0m full_backward_hooks, non_full_backward_hooks \u001B[38;5;241m=\u001B[39m [], []\n",
      "File \u001B[0;32m~/miniforge3/envs/irtm/lib/python3.9/site-packages/stanza/models/ner/model.py:96\u001B[0m, in \u001B[0;36mNERTagger.forward\u001B[0;34m(self, word, word_mask, wordchars, wordchars_mask, tags, word_orig_idx, sentlens, wordlens, chars, charoffsets, charlens, char_orig_idx)\u001B[0m\n\u001B[1;32m     94\u001B[0m \u001B[38;5;28;01mif\u001B[39;00m \u001B[38;5;28mself\u001B[39m\u001B[38;5;241m.\u001B[39margs[\u001B[38;5;124m'\u001B[39m\u001B[38;5;124mchar\u001B[39m\u001B[38;5;124m'\u001B[39m] \u001B[38;5;129;01mand\u001B[39;00m \u001B[38;5;28mself\u001B[39m\u001B[38;5;241m.\u001B[39margs[\u001B[38;5;124m'\u001B[39m\u001B[38;5;124mchar_emb_dim\u001B[39m\u001B[38;5;124m'\u001B[39m] \u001B[38;5;241m>\u001B[39m \u001B[38;5;241m0\u001B[39m:\n\u001B[1;32m     95\u001B[0m     \u001B[38;5;28;01mif\u001B[39;00m \u001B[38;5;28mself\u001B[39m\u001B[38;5;241m.\u001B[39margs\u001B[38;5;241m.\u001B[39mget(\u001B[38;5;124m'\u001B[39m\u001B[38;5;124mcharlm\u001B[39m\u001B[38;5;124m'\u001B[39m, \u001B[38;5;28;01mNone\u001B[39;00m):\n\u001B[0;32m---> 96\u001B[0m         char_reps_forward \u001B[38;5;241m=\u001B[39m \u001B[38;5;28;43mself\u001B[39;49m\u001B[38;5;241;43m.\u001B[39;49m\u001B[43mcharmodel_forward\u001B[49m\u001B[38;5;241;43m.\u001B[39;49m\u001B[43mget_representation\u001B[49m\u001B[43m(\u001B[49m\u001B[43mchars\u001B[49m\u001B[43m[\u001B[49m\u001B[38;5;241;43m0\u001B[39;49m\u001B[43m]\u001B[49m\u001B[43m,\u001B[49m\u001B[43m \u001B[49m\u001B[43mcharoffsets\u001B[49m\u001B[43m[\u001B[49m\u001B[38;5;241;43m0\u001B[39;49m\u001B[43m]\u001B[49m\u001B[43m,\u001B[49m\u001B[43m \u001B[49m\u001B[43mcharlens\u001B[49m\u001B[43m,\u001B[49m\u001B[43m \u001B[49m\u001B[43mchar_orig_idx\u001B[49m\u001B[43m)\u001B[49m\n\u001B[1;32m     97\u001B[0m         char_reps_forward \u001B[38;5;241m=\u001B[39m PackedSequence(char_reps_forward\u001B[38;5;241m.\u001B[39mdata, char_reps_forward\u001B[38;5;241m.\u001B[39mbatch_sizes)\n\u001B[1;32m     98\u001B[0m         char_reps_backward \u001B[38;5;241m=\u001B[39m \u001B[38;5;28mself\u001B[39m\u001B[38;5;241m.\u001B[39mcharmodel_backward\u001B[38;5;241m.\u001B[39mget_representation(chars[\u001B[38;5;241m1\u001B[39m], charoffsets[\u001B[38;5;241m1\u001B[39m], charlens, char_orig_idx)\n",
      "File \u001B[0;32m~/miniforge3/envs/irtm/lib/python3.9/site-packages/stanza/models/common/char_model.py:98\u001B[0m, in \u001B[0;36mCharacterLanguageModel.get_representation\u001B[0;34m(self, chars, charoffsets, charlens, char_orig_idx)\u001B[0m\n\u001B[1;32m     96\u001B[0m \u001B[38;5;28;01mdef\u001B[39;00m \u001B[38;5;21mget_representation\u001B[39m(\u001B[38;5;28mself\u001B[39m, chars, charoffsets, charlens, char_orig_idx):\n\u001B[1;32m     97\u001B[0m     \u001B[38;5;28;01mwith\u001B[39;00m torch\u001B[38;5;241m.\u001B[39mno_grad():\n\u001B[0;32m---> 98\u001B[0m         output, _, _ \u001B[38;5;241m=\u001B[39m \u001B[38;5;28;43mself\u001B[39;49m\u001B[38;5;241;43m.\u001B[39;49m\u001B[43mforward\u001B[49m\u001B[43m(\u001B[49m\u001B[43mchars\u001B[49m\u001B[43m,\u001B[49m\u001B[43m \u001B[49m\u001B[43mcharlens\u001B[49m\u001B[43m)\u001B[49m\n\u001B[1;32m     99\u001B[0m         res \u001B[38;5;241m=\u001B[39m [output[i, offsets] \u001B[38;5;28;01mfor\u001B[39;00m i, offsets \u001B[38;5;129;01min\u001B[39;00m \u001B[38;5;28menumerate\u001B[39m(charoffsets)]\n\u001B[1;32m    100\u001B[0m         res \u001B[38;5;241m=\u001B[39m unsort(res, char_orig_idx)\n",
      "File \u001B[0;32m~/miniforge3/envs/irtm/lib/python3.9/site-packages/stanza/models/common/char_model.py:91\u001B[0m, in \u001B[0;36mCharacterLanguageModel.forward\u001B[0;34m(self, chars, charlens, hidden)\u001B[0m\n\u001B[1;32m     88\u001B[0m \u001B[38;5;28;01mif\u001B[39;00m hidden \u001B[38;5;129;01mis\u001B[39;00m \u001B[38;5;28;01mNone\u001B[39;00m: \n\u001B[1;32m     89\u001B[0m     hidden \u001B[38;5;241m=\u001B[39m (\u001B[38;5;28mself\u001B[39m\u001B[38;5;241m.\u001B[39mcharlstm_h_init\u001B[38;5;241m.\u001B[39mexpand(\u001B[38;5;28mself\u001B[39m\u001B[38;5;241m.\u001B[39margs[\u001B[38;5;124m'\u001B[39m\u001B[38;5;124mchar_num_layers\u001B[39m\u001B[38;5;124m'\u001B[39m], batch_size, \u001B[38;5;28mself\u001B[39m\u001B[38;5;241m.\u001B[39margs[\u001B[38;5;124m'\u001B[39m\u001B[38;5;124mchar_hidden_dim\u001B[39m\u001B[38;5;124m'\u001B[39m])\u001B[38;5;241m.\u001B[39mcontiguous(),\n\u001B[1;32m     90\u001B[0m               \u001B[38;5;28mself\u001B[39m\u001B[38;5;241m.\u001B[39mcharlstm_c_init\u001B[38;5;241m.\u001B[39mexpand(\u001B[38;5;28mself\u001B[39m\u001B[38;5;241m.\u001B[39margs[\u001B[38;5;124m'\u001B[39m\u001B[38;5;124mchar_num_layers\u001B[39m\u001B[38;5;124m'\u001B[39m], batch_size, \u001B[38;5;28mself\u001B[39m\u001B[38;5;241m.\u001B[39margs[\u001B[38;5;124m'\u001B[39m\u001B[38;5;124mchar_hidden_dim\u001B[39m\u001B[38;5;124m'\u001B[39m])\u001B[38;5;241m.\u001B[39mcontiguous())\n\u001B[0;32m---> 91\u001B[0m output, hidden \u001B[38;5;241m=\u001B[39m \u001B[38;5;28;43mself\u001B[39;49m\u001B[38;5;241;43m.\u001B[39;49m\u001B[43mcharlstm\u001B[49m\u001B[43m(\u001B[49m\u001B[43membs\u001B[49m\u001B[43m,\u001B[49m\u001B[43m \u001B[49m\u001B[43mcharlens\u001B[49m\u001B[43m,\u001B[49m\u001B[43m \u001B[49m\u001B[43mhx\u001B[49m\u001B[38;5;241;43m=\u001B[39;49m\u001B[43mhidden\u001B[49m\u001B[43m)\u001B[49m\n\u001B[1;32m     92\u001B[0m output \u001B[38;5;241m=\u001B[39m \u001B[38;5;28mself\u001B[39m\u001B[38;5;241m.\u001B[39mdropout(pad_packed_sequence(output, batch_first\u001B[38;5;241m=\u001B[39m\u001B[38;5;28;01mTrue\u001B[39;00m)[\u001B[38;5;241m0\u001B[39m])\n\u001B[1;32m     93\u001B[0m decoded \u001B[38;5;241m=\u001B[39m \u001B[38;5;28mself\u001B[39m\u001B[38;5;241m.\u001B[39mdecoder(output)\n",
      "File \u001B[0;32m~/PycharmProjects/IRTM/pytorch/torch/nn/modules/module.py:1130\u001B[0m, in \u001B[0;36mModule._call_impl\u001B[0;34m(self, *input, **kwargs)\u001B[0m\n\u001B[1;32m   1126\u001B[0m \u001B[38;5;66;03m# If we don't have any hooks, we want to skip the rest of the logic in\u001B[39;00m\n\u001B[1;32m   1127\u001B[0m \u001B[38;5;66;03m# this function, and just call forward.\u001B[39;00m\n\u001B[1;32m   1128\u001B[0m \u001B[38;5;28;01mif\u001B[39;00m \u001B[38;5;129;01mnot\u001B[39;00m (\u001B[38;5;28mself\u001B[39m\u001B[38;5;241m.\u001B[39m_backward_hooks \u001B[38;5;129;01mor\u001B[39;00m \u001B[38;5;28mself\u001B[39m\u001B[38;5;241m.\u001B[39m_forward_hooks \u001B[38;5;129;01mor\u001B[39;00m \u001B[38;5;28mself\u001B[39m\u001B[38;5;241m.\u001B[39m_forward_pre_hooks \u001B[38;5;129;01mor\u001B[39;00m _global_backward_hooks\n\u001B[1;32m   1129\u001B[0m         \u001B[38;5;129;01mor\u001B[39;00m _global_forward_hooks \u001B[38;5;129;01mor\u001B[39;00m _global_forward_pre_hooks):\n\u001B[0;32m-> 1130\u001B[0m     \u001B[38;5;28;01mreturn\u001B[39;00m \u001B[43mforward_call\u001B[49m\u001B[43m(\u001B[49m\u001B[38;5;241;43m*\u001B[39;49m\u001B[38;5;28;43minput\u001B[39;49m\u001B[43m,\u001B[49m\u001B[43m \u001B[49m\u001B[38;5;241;43m*\u001B[39;49m\u001B[38;5;241;43m*\u001B[39;49m\u001B[43mkwargs\u001B[49m\u001B[43m)\u001B[49m\n\u001B[1;32m   1131\u001B[0m \u001B[38;5;66;03m# Do not call functions when jit is used\u001B[39;00m\n\u001B[1;32m   1132\u001B[0m full_backward_hooks, non_full_backward_hooks \u001B[38;5;241m=\u001B[39m [], []\n",
      "File \u001B[0;32m~/miniforge3/envs/irtm/lib/python3.9/site-packages/stanza/models/common/packed_lstm.py:22\u001B[0m, in \u001B[0;36mPackedLSTM.forward\u001B[0;34m(self, input, lengths, hx)\u001B[0m\n\u001B[1;32m     19\u001B[0m \u001B[38;5;28;01mif\u001B[39;00m \u001B[38;5;129;01mnot\u001B[39;00m \u001B[38;5;28misinstance\u001B[39m(\u001B[38;5;28minput\u001B[39m, PackedSequence):\n\u001B[1;32m     20\u001B[0m     \u001B[38;5;28minput\u001B[39m \u001B[38;5;241m=\u001B[39m pack_padded_sequence(\u001B[38;5;28minput\u001B[39m, lengths, batch_first\u001B[38;5;241m=\u001B[39m\u001B[38;5;28mself\u001B[39m\u001B[38;5;241m.\u001B[39mbatch_first)\n\u001B[0;32m---> 22\u001B[0m res \u001B[38;5;241m=\u001B[39m \u001B[38;5;28;43mself\u001B[39;49m\u001B[38;5;241;43m.\u001B[39;49m\u001B[43mlstm\u001B[49m\u001B[43m(\u001B[49m\u001B[38;5;28;43minput\u001B[39;49m\u001B[43m,\u001B[49m\u001B[43m \u001B[49m\u001B[43mhx\u001B[49m\u001B[43m)\u001B[49m\n\u001B[1;32m     23\u001B[0m \u001B[38;5;28;01mif\u001B[39;00m \u001B[38;5;28mself\u001B[39m\u001B[38;5;241m.\u001B[39mpad:\n\u001B[1;32m     24\u001B[0m     res \u001B[38;5;241m=\u001B[39m (pad_packed_sequence(res[\u001B[38;5;241m0\u001B[39m], batch_first\u001B[38;5;241m=\u001B[39m\u001B[38;5;28mself\u001B[39m\u001B[38;5;241m.\u001B[39mbatch_first)[\u001B[38;5;241m0\u001B[39m], res[\u001B[38;5;241m1\u001B[39m])\n",
      "File \u001B[0;32m~/PycharmProjects/IRTM/pytorch/torch/nn/modules/module.py:1130\u001B[0m, in \u001B[0;36mModule._call_impl\u001B[0;34m(self, *input, **kwargs)\u001B[0m\n\u001B[1;32m   1126\u001B[0m \u001B[38;5;66;03m# If we don't have any hooks, we want to skip the rest of the logic in\u001B[39;00m\n\u001B[1;32m   1127\u001B[0m \u001B[38;5;66;03m# this function, and just call forward.\u001B[39;00m\n\u001B[1;32m   1128\u001B[0m \u001B[38;5;28;01mif\u001B[39;00m \u001B[38;5;129;01mnot\u001B[39;00m (\u001B[38;5;28mself\u001B[39m\u001B[38;5;241m.\u001B[39m_backward_hooks \u001B[38;5;129;01mor\u001B[39;00m \u001B[38;5;28mself\u001B[39m\u001B[38;5;241m.\u001B[39m_forward_hooks \u001B[38;5;129;01mor\u001B[39;00m \u001B[38;5;28mself\u001B[39m\u001B[38;5;241m.\u001B[39m_forward_pre_hooks \u001B[38;5;129;01mor\u001B[39;00m _global_backward_hooks\n\u001B[1;32m   1129\u001B[0m         \u001B[38;5;129;01mor\u001B[39;00m _global_forward_hooks \u001B[38;5;129;01mor\u001B[39;00m _global_forward_pre_hooks):\n\u001B[0;32m-> 1130\u001B[0m     \u001B[38;5;28;01mreturn\u001B[39;00m \u001B[43mforward_call\u001B[49m\u001B[43m(\u001B[49m\u001B[38;5;241;43m*\u001B[39;49m\u001B[38;5;28;43minput\u001B[39;49m\u001B[43m,\u001B[49m\u001B[43m \u001B[49m\u001B[38;5;241;43m*\u001B[39;49m\u001B[38;5;241;43m*\u001B[39;49m\u001B[43mkwargs\u001B[49m\u001B[43m)\u001B[49m\n\u001B[1;32m   1131\u001B[0m \u001B[38;5;66;03m# Do not call functions when jit is used\u001B[39;00m\n\u001B[1;32m   1132\u001B[0m full_backward_hooks, non_full_backward_hooks \u001B[38;5;241m=\u001B[39m [], []\n",
      "File \u001B[0;32m~/PycharmProjects/IRTM/pytorch/torch/nn/modules/rnn.py:772\u001B[0m, in \u001B[0;36mLSTM.forward\u001B[0;34m(self, input, hx)\u001B[0m\n\u001B[1;32m    769\u001B[0m     result \u001B[38;5;241m=\u001B[39m _VF\u001B[38;5;241m.\u001B[39mlstm(\u001B[38;5;28minput\u001B[39m, hx, \u001B[38;5;28mself\u001B[39m\u001B[38;5;241m.\u001B[39m_flat_weights, \u001B[38;5;28mself\u001B[39m\u001B[38;5;241m.\u001B[39mbias, \u001B[38;5;28mself\u001B[39m\u001B[38;5;241m.\u001B[39mnum_layers,\n\u001B[1;32m    770\u001B[0m                       \u001B[38;5;28mself\u001B[39m\u001B[38;5;241m.\u001B[39mdropout, \u001B[38;5;28mself\u001B[39m\u001B[38;5;241m.\u001B[39mtraining, \u001B[38;5;28mself\u001B[39m\u001B[38;5;241m.\u001B[39mbidirectional, \u001B[38;5;28mself\u001B[39m\u001B[38;5;241m.\u001B[39mbatch_first)\n\u001B[1;32m    771\u001B[0m \u001B[38;5;28;01melse\u001B[39;00m:\n\u001B[0;32m--> 772\u001B[0m     result \u001B[38;5;241m=\u001B[39m \u001B[43m_VF\u001B[49m\u001B[38;5;241;43m.\u001B[39;49m\u001B[43mlstm\u001B[49m\u001B[43m(\u001B[49m\u001B[38;5;28;43minput\u001B[39;49m\u001B[43m,\u001B[49m\u001B[43m \u001B[49m\u001B[43mbatch_sizes\u001B[49m\u001B[43m,\u001B[49m\u001B[43m \u001B[49m\u001B[43mhx\u001B[49m\u001B[43m,\u001B[49m\u001B[43m \u001B[49m\u001B[38;5;28;43mself\u001B[39;49m\u001B[38;5;241;43m.\u001B[39;49m\u001B[43m_flat_weights\u001B[49m\u001B[43m,\u001B[49m\u001B[43m \u001B[49m\u001B[38;5;28;43mself\u001B[39;49m\u001B[38;5;241;43m.\u001B[39;49m\u001B[43mbias\u001B[49m\u001B[43m,\u001B[49m\n\u001B[1;32m    773\u001B[0m \u001B[43m                      \u001B[49m\u001B[38;5;28;43mself\u001B[39;49m\u001B[38;5;241;43m.\u001B[39;49m\u001B[43mnum_layers\u001B[49m\u001B[43m,\u001B[49m\u001B[43m \u001B[49m\u001B[38;5;28;43mself\u001B[39;49m\u001B[38;5;241;43m.\u001B[39;49m\u001B[43mdropout\u001B[49m\u001B[43m,\u001B[49m\u001B[43m \u001B[49m\u001B[38;5;28;43mself\u001B[39;49m\u001B[38;5;241;43m.\u001B[39;49m\u001B[43mtraining\u001B[49m\u001B[43m,\u001B[49m\u001B[43m \u001B[49m\u001B[38;5;28;43mself\u001B[39;49m\u001B[38;5;241;43m.\u001B[39;49m\u001B[43mbidirectional\u001B[49m\u001B[43m)\u001B[49m\n\u001B[1;32m    774\u001B[0m output \u001B[38;5;241m=\u001B[39m result[\u001B[38;5;241m0\u001B[39m]\n\u001B[1;32m    775\u001B[0m hidden \u001B[38;5;241m=\u001B[39m result[\u001B[38;5;241m1\u001B[39m:]\n",
      "\u001B[0;31mKeyboardInterrupt\u001B[0m: "
     ]
    }
   ],
   "source": [
    "text_df['ner'] = text_df.text.apply(ner)"
   ],
   "metadata": {
    "collapsed": false,
    "pycharm": {
     "name": "#%%\n"
    }
   }
  },
  {
   "cell_type": "code",
   "execution_count": 6,
   "outputs": [],
   "source": [
    "text_df.to_csv(\"ner_dataset.csv\")"
   ],
   "metadata": {
    "collapsed": false,
    "pycharm": {
     "name": "#%%\n"
    }
   }
  },
  {
   "cell_type": "code",
   "execution_count": 117,
   "outputs": [
    {
     "ename": "AttributeError",
     "evalue": "'DataFrame' object has no attribute 'ner'",
     "output_type": "error",
     "traceback": [
      "\u001B[0;31m---------------------------------------------------------------------------\u001B[0m",
      "\u001B[0;31mAttributeError\u001B[0m                            Traceback (most recent call last)",
      "Input \u001B[0;32mIn [117]\u001B[0m, in \u001B[0;36m<cell line: 3>\u001B[0;34m()\u001B[0m\n\u001B[1;32m      1\u001B[0m \u001B[38;5;28;01mfrom\u001B[39;00m \u001B[38;5;21;01mpathlib\u001B[39;00m \u001B[38;5;28;01mimport\u001B[39;00m Path\n\u001B[0;32m----> 3\u001B[0m \u001B[38;5;28;01mfor\u001B[39;00m idx, item \u001B[38;5;129;01min\u001B[39;00m \u001B[43mtext_df\u001B[49m\u001B[38;5;241;43m.\u001B[39;49m\u001B[43mner\u001B[49m\u001B[38;5;241m.\u001B[39miteritems():\n\u001B[1;32m      4\u001B[0m     file_name \u001B[38;5;241m=\u001B[39m os\u001B[38;5;241m.\u001B[39mpath\u001B[38;5;241m.\u001B[39mjoin(\u001B[38;5;124m\"\u001B[39m\u001B[38;5;124m../ner_pickle\u001B[39m\u001B[38;5;124m\"\u001B[39m, text_df\u001B[38;5;241m.\u001B[39mchapter[idx] \u001B[38;5;241m+\u001B[39m \u001B[38;5;124m\"\u001B[39m\u001B[38;5;124m.pickle\u001B[39m\u001B[38;5;124m\"\u001B[39m,)\n\u001B[1;32m      5\u001B[0m     \u001B[38;5;28;01mif\u001B[39;00m \u001B[38;5;129;01mnot\u001B[39;00m os\u001B[38;5;241m.\u001B[39mpath\u001B[38;5;241m.\u001B[39misfile(file_name):\n",
      "File \u001B[0;32m~/miniforge3/envs/irtm/lib/python3.9/site-packages/pandas/core/generic.py:5575\u001B[0m, in \u001B[0;36mNDFrame.__getattr__\u001B[0;34m(self, name)\u001B[0m\n\u001B[1;32m   5568\u001B[0m \u001B[38;5;28;01mif\u001B[39;00m (\n\u001B[1;32m   5569\u001B[0m     name \u001B[38;5;129;01mnot\u001B[39;00m \u001B[38;5;129;01min\u001B[39;00m \u001B[38;5;28mself\u001B[39m\u001B[38;5;241m.\u001B[39m_internal_names_set\n\u001B[1;32m   5570\u001B[0m     \u001B[38;5;129;01mand\u001B[39;00m name \u001B[38;5;129;01mnot\u001B[39;00m \u001B[38;5;129;01min\u001B[39;00m \u001B[38;5;28mself\u001B[39m\u001B[38;5;241m.\u001B[39m_metadata\n\u001B[1;32m   5571\u001B[0m     \u001B[38;5;129;01mand\u001B[39;00m name \u001B[38;5;129;01mnot\u001B[39;00m \u001B[38;5;129;01min\u001B[39;00m \u001B[38;5;28mself\u001B[39m\u001B[38;5;241m.\u001B[39m_accessors\n\u001B[1;32m   5572\u001B[0m     \u001B[38;5;129;01mand\u001B[39;00m \u001B[38;5;28mself\u001B[39m\u001B[38;5;241m.\u001B[39m_info_axis\u001B[38;5;241m.\u001B[39m_can_hold_identifiers_and_holds_name(name)\n\u001B[1;32m   5573\u001B[0m ):\n\u001B[1;32m   5574\u001B[0m     \u001B[38;5;28;01mreturn\u001B[39;00m \u001B[38;5;28mself\u001B[39m[name]\n\u001B[0;32m-> 5575\u001B[0m \u001B[38;5;28;01mreturn\u001B[39;00m \u001B[38;5;28;43mobject\u001B[39;49m\u001B[38;5;241;43m.\u001B[39;49m\u001B[38;5;21;43m__getattribute__\u001B[39;49m\u001B[43m(\u001B[49m\u001B[38;5;28;43mself\u001B[39;49m\u001B[43m,\u001B[49m\u001B[43m \u001B[49m\u001B[43mname\u001B[49m\u001B[43m)\u001B[49m\n",
      "\u001B[0;31mAttributeError\u001B[0m: 'DataFrame' object has no attribute 'ner'"
     ]
    }
   ],
   "source": [
    "from pathlib import Path\n",
    "\n",
    "for idx, item in text_df.ner.iteritems():\n",
    "    file_name = os.path.join(\"../ner_pickle\", text_df.chapter[idx] + \".pickle\",)\n",
    "    if not os.path.isfile(file_name):\n",
    "        Path(file_name).touch()\n",
    "    with open(file_name, \"wb\") as file:\n",
    "        pickle.dump(item, file)"
   ],
   "metadata": {
    "collapsed": false,
    "pycharm": {
     "name": "#%%\n"
    }
   }
  },
  {
   "cell_type": "code",
   "execution_count": 28,
   "outputs": [
    {
     "name": "stderr",
     "output_type": "stream",
     "text": [
      "/var/folders/nl/063yds355gn2cv90cc5fk6cw0000gn/T/ipykernel_90900/1083647937.py:13: FutureWarning: The default value of regex will change from True to False in a future version.\n",
      "  df_ner.chapter = df_ner.chapter.str.replace('.pickle', '')\n"
     ]
    }
   ],
   "source": [
    "ner_path = \"../ner_pickle\"\n",
    "chapters = os.listdir(ner_path)\n",
    "chapters.sort(key=lambda x: int(x.split('_')[0]))\n",
    "\n",
    "df_ner = pd.DataFrame(columns=[\"chapter\", \"ner\"])\n",
    "for chapter in chapters:\n",
    "    with open(os.path.join(ner_path, chapter), 'br') as chpt_file:\n",
    "        chpt_ner = pickle.load(chpt_file)\n",
    "        df_ner.loc[len(df_ner.index)] = pd.Series({\n",
    "            \"chapter\": chapter,\n",
    "            \"ner\": chpt_ner\n",
    "        })\n",
    "df_ner.chapter = df_ner.chapter.str.replace('.pickle', '')"
   ],
   "metadata": {
    "collapsed": false,
    "pycharm": {
     "name": "#%%\n"
    }
   }
  },
  {
   "cell_type": "code",
   "execution_count": 29,
   "outputs": [],
   "source": [
    "data = pd.merge(df_ner, text_df[[\"chapter\", \"book\"]], left_on=\"chapter\", right_on=\"chapter\")\n",
    "data = data.set_index([\"book\", \"chapter\"]).sort_index(key=lambda x: x.map(lambda y: y.split('_')[-1]) if x[0].split('_')[0] == \"red\" else x.map(lambda y: int(y.split('_')[0])))"
   ],
   "metadata": {
    "collapsed": false,
    "pycharm": {
     "name": "#%%\n"
    }
   }
  },
  {
   "cell_type": "code",
   "execution_count": 30,
   "outputs": [],
   "source": [
    "data_ner = data.ner.apply(lambda  res: [(ent.text,ent.type) for sent in res.sentences for ent in sent.ents])"
   ],
   "metadata": {
    "collapsed": false,
    "pycharm": {
     "name": "#%%\n"
    }
   }
  },
  {
   "cell_type": "code",
   "execution_count": 31,
   "outputs": [],
   "source": [
    "data_comb = []\n",
    "for item in data_ner:\n",
    "    data_comb += item"
   ],
   "metadata": {
    "collapsed": false,
    "pycharm": {
     "name": "#%%\n"
    }
   }
  },
  {
   "cell_type": "code",
   "execution_count": 32,
   "outputs": [],
   "source": [
    "ents_df = pd.DataFrame(data_comb)"
   ],
   "metadata": {
    "collapsed": false,
    "pycharm": {
     "name": "#%%\n"
    }
   }
  },
  {
   "cell_type": "code",
   "execution_count": 41,
   "outputs": [
    {
     "data": {
      "text/plain": "2239"
     },
     "execution_count": 41,
     "metadata": {},
     "output_type": "execute_result"
    }
   ],
   "source": [
    "ents_df.groupby([0,1]).size().index.get_level_values(0).size"
   ],
   "metadata": {
    "collapsed": false,
    "pycharm": {
     "name": "#%%\n"
    }
   }
  },
  {
   "cell_type": "code",
   "execution_count": 43,
   "outputs": [
    {
     "data": {
      "text/plain": "(1499,)"
     },
     "execution_count": 43,
     "metadata": {},
     "output_type": "execute_result"
    }
   ],
   "source": [
    "filter_list = ['ORG', 'PERSON', 'LOC', 'NORP', 'GPE', 'PRODUCT', 'FAC', 'WORK_OF_ART', 'EVENT']\n",
    "ents_filtered = ents_df[ents_df[1].isin(filter_list)]\n",
    "ents_filtered = ents_filtered.groupby([0,1]).size()\n",
    "ents_filtered.shape"
   ],
   "metadata": {
    "collapsed": false,
    "pycharm": {
     "name": "#%%\n"
    }
   }
  },
  {
   "cell_type": "code",
   "execution_count": 44,
   "outputs": [],
   "source": [
    "from Levenshtein import distance as lev"
   ],
   "metadata": {
    "collapsed": false,
    "pycharm": {
     "name": "#%%\n"
    }
   }
  },
  {
   "cell_type": "code",
   "execution_count": 45,
   "outputs": [],
   "source": [
    "entities = ents_filtered.index.get_level_values(0).unique().to_series()\n",
    "ent_lev = entities.map(lambda x: {comp_word: 1 - (lev(x, comp_word) / max(len(x), len(comp_word))) for comp_word in entities})"
   ],
   "metadata": {
    "collapsed": false,
    "pycharm": {
     "name": "#%%\n"
    }
   }
  },
  {
   "cell_type": "code",
   "execution_count": 46,
   "outputs": [],
   "source": [
    "ent_lev_matrix = pd.DataFrame([*ent_lev], index=ent_lev.index)"
   ],
   "metadata": {
    "collapsed": false,
    "pycharm": {
     "name": "#%%\n"
    }
   }
  },
  {
   "cell_type": "code",
   "execution_count": 47,
   "outputs": [],
   "source": [
    "plot_df = ent_lev_matrix.copy()\n",
    "plot_df[plot_df < .8] = 0\n",
    "plot_df[plot_df == 1] = 0\n",
    "# plot_df = plot_df.loc[(plot_df != 0).any(axis=1), (plot_df != 0).any(axis=0)]"
   ],
   "metadata": {
    "collapsed": false,
    "pycharm": {
     "name": "#%%\n"
    }
   }
  },
  {
   "cell_type": "code",
   "execution_count": 49,
   "outputs": [
    {
     "name": "stdout",
     "output_type": "stream",
     "text": [
      "999\n"
     ]
    },
    {
     "data": {
      "text/plain": "[{'A Gold'},\n {'A Solar System', 'the Solar System', '—a Solar System'},\n {'Academians'},\n {'Academy'},\n {'Achilles'},\n {'Adam'},\n {'Adjudicators'},\n {'Adonis'},\n {'Adriatus'},\n {'Adrius'},\n {'Adrius au Augustus'},\n {'Against their greed And Down in the vale Hear'},\n {'Agea'},\n {'Agoge'},\n {'Agrippina'},\n {'Agrippina au Julii'},\n {'Ai'},\n {'Aja'},\n {'Aja au Grimmus'},\n {'Ajax Minor'},\n {'Alcibiades'},\n {'Alexander'},\n {'Alfrún'},\n {'Alia Snowsparrow'},\n {'Allmother'},\n {'Allmother Death'},\n {'Alone from the Abyss'},\n {'American', 'Americans'},\n {'An Iron Rain', 'an Iron Rain'},\n {'An Olympic Knight',\n  'Olympic Knight',\n  'an Olympic Knight',\n  'my Olympic Knights'},\n {'Andromeda', 'Andromedus'},\n {'Andromeda Galaxy', 'the Andromeda Galaxy'},\n {'Antonia'},\n {'Antonia au Severus'},\n {'Antonia au Severus-Julii'},\n {'Antonius'},\n {'Apollo'},\n {'Apollo Castle'},\n {'Apollonian'},\n {'Apollo’s'},\n {'Apple'},\n {'ArchGovenor Nero au Augustus', 'ArchGovernor Nero au Augustus'},\n {'ArchGovernor', 'ArchGovernors'},\n {'ArchGovernor Augustus'},\n {'ArchGovernor Cylus'},\n {'ArchGovernor of Mars, thirteenth'},\n {'ArchGovernor', 'ArchGovernors', 'ArchGovernorship'},\n {'ArchGovernors of Mercury'},\n {'ArchGovernors', 'ArchGovernorship'},\n {'Arcos', 'Argos'},\n {'Arcosian'},\n {'Ares'},\n {'Ariel'},\n {'Arlus', 'Arnus'},\n {'Armada'},\n {'Arria'},\n {'Ascendance'},\n {'Ash Lord'},\n {'Ashamed'},\n {'Athena', 'Athens'},\n {'Atomics'},\n {'Attica'},\n {'Aucus au Grimmus'},\n {'Augusta', 'Augustan'},\n {'Augusta', 'Augustan', 'Augustans'},\n {'Augustan Golds'},\n {'Augustan', 'Augustans'},\n {'Augustus', 'Augustuses'},\n {'Augustus Ares'},\n {'Augustus’s table'},\n {'Aureate'},\n {'Aye'},\n {'Babykillers'},\n {'Bacchus'},\n {'Bakers'},\n {'Bald'},\n {'Bank'},\n {'Barks'},\n {'Barlow'},\n {'Bazaar'},\n {'Bellona', 'Bellonas'},\n {'Bellona Praetors'},\n {'Bellona bastard’s bloodydamn bridge'},\n {'Bellona-friendly'},\n {'Blade'},\n {'Bleeding Place'},\n {'BloodBacks'},\n {'Bloodydamn'},\n {'Bloodyhell'},\n {'Blue', 'Blues'},\n {'Blues and Oranges'},\n {'Board'},\n {'Bolly'},\n {'Bondilus cu Tancrus'},\n {'Borealis'},\n {'Boyo'},\n {'Brahms'},\n {'Bridge'},\n {'Brilliant Mustang'},\n {'Britannic Armada'},\n {'Bronzie', 'Bronzies'},\n {'Bronzie-looking'},\n {'Brotherman'},\n {'Brown', 'Browns'},\n {'Brutus'},\n {'Bryn'},\n {'Burns'},\n {'Byron'},\n {'Caesar'},\n {'Cagney'},\n {'Cagney au Bellona'},\n {'Caius au Andromedus', 'Lexus au Andromedus', 'Linus au Andromedus'},\n {'Calisto', 'Callisto'},\n {'Can'},\n {'Capitalism in the Governed Age'},\n {'Carena'},\n {'Carly'},\n {'Carolina'},\n {'Carthii'},\n {'Carver', 'Carvers'},\n {'Cassandra'},\n {'Cassi'},\n {'Cassius'},\n {'Cassius au Bellona'},\n {'Castle Apollo'},\n {'Castle Mars'},\n {'Ceres'},\n {'Ceres Minerva'},\n {'Chance'},\n {'Chi'},\n {'Chinese'},\n {'Cicero'},\n {'Cipio'},\n {'Citadel'},\n {'Citadel Carvers'},\n {'Citadel grounds'},\n {'Civil war'},\n {'Clan'},\n {'Claudius'},\n {'Claudius au Augustus'},\n {'Clintus'},\n {'Clown'},\n {'Clown and Pebble'},\n {'Clown, Harpy'},\n {'Clown, Weed'},\n {'Codovan', 'Cordovan'},\n {'Color', 'Colors'},\n {'Common'},\n {'Compact'},\n {'Confine Victra'},\n {'Conquering'},\n {'Conquerors'},\n {'Copper', 'Coppers'},\n {'Copper district'},\n {'Core'},\n {'Corinth'},\n {'Corsican'},\n {'Corvos'},\n {'Crows'},\n {'Culling'},\n {'Cutter'},\n {'Cylus'},\n {'Cyther'},\n {'Dago'},\n {'Dain'},\n {'Dale'},\n {'Dalo'},\n {'Damned Antonia'},\n {'Dan'},\n {'Dancer'},\n {'Dancer, Darrow'},\n {'Dante'},\n {'Dar'},\n {'Daria the Harpy'},\n {'Darling'},\n {'Darrow'},\n {'Darrow au Andromedus'},\n {'Darrow au Augustus'},\n {'Darwin'},\n {'Darwinianism'},\n {'Dax'},\n {'Daxo'},\n {'Daxo au Telemanus', 'Pax au Telemanus'},\n {'DeadHorses'},\n {'Decadence'},\n {'Deep Space Command Centers'},\n {'Deimos'},\n {'Deimos Tower'},\n {'Demetrius au Bellona', 'Tiberius au Bellona'},\n {'Demokracy'},\n {'Diana', 'Diona'},\n {'Dickwit'},\n {'Dio'},\n {'Director Clintus'},\n {'Dirtier'},\n {'Discordia'},\n {'Dispose of the Jackal'},\n {'Docker'},\n {'Dominus'},\n {'Draft'},\n {'Drafter', 'Drafters'},\n {'Dragon'},\n {'Drake-Roddenberry'},\n {'Dregs'},\n {'Dunlow'},\n {'Dye'},\n {'EMP'},\n {'Earth'},\n {'Earthborn'},\n {'East'},\n {'Eastern'},\n {'Empress'},\n {'Enceledas'},\n {'Eo'},\n {'Eo. Mustang'},\n {'Eo. Roque'},\n {'Eo. Sister'},\n {'Eo’s grave'},\n {'Etruscan'},\n {'Eurasia'},\n {'Europa', 'Europe'},\n {'European'},\n {'Evey'},\n {'Extraplanetary Government Upheaval'},\n {'Fabii'},\n {'Falthe', 'Falthes'},\n {'Family Arcos'},\n {'Family Codovan'},\n {'Family Norvo'},\n {'Father’s Oranges'},\n {'Fencor'},\n {'Fencor au Drusilla'},\n {'Field', 'Fields'},\n {'Field Fitchner'},\n {'Field of Mars'},\n {'Fifth Fleet'},\n {'First Pax'},\n {'Fitcher', 'Fitchner'},\n {'Fleet', 'Fleets'},\n {'Flush'},\n {'Forevermore'},\n {'Fortune'},\n {'Freeeedom'},\n {'Furies'},\n {'Furor'},\n {'Fury'},\n {'Gaius'},\n {'Galilean', 'Galileans'},\n {'Gamma', 'Gammas'},\n {'Gamma Township', 'Lambda Township'},\n {'Gamma', 'Gammas', 'Gamma’s'},\n {'Gammas', 'Gamma’s'},\n {'Gamma’s Helldiver'},\n {'Ganymede'},\n {'Garden', 'Gardens'},\n {'Garden Dryope'},\n {'Gauis au Carthus'},\n {'Gauis au Trachus'},\n {'Genghis'},\n {'Glad Octavia'},\n {'Glass Palace'},\n {'Goblin'},\n {'Godchild Andromedus'},\n {'Godslayer'},\n {'Gold', 'Golds'},\n {'Gold Primus'},\n {'Gold and Silver', 'Golds and Silvers'},\n {'Gold districts'},\n {'Gold, some Silver'},\n {'Goldbrow', 'Goldbrows'},\n {'Golden', 'Goldens'},\n {'Golden Legates'},\n {'Goliath'},\n {'Gory'},\n {'Gorydammit'},\n {'Gorydamn'},\n {'Goryfine'},\n {'Goryhell'},\n {'Governors'},\n {'Governorship'},\n {'Graduates'},\n {'Grafitti'},\n {'Grandfather Lorn'},\n {'Grav'},\n {'GravBoots'},\n {'Gray', 'Grays'},\n {'Gray', 'Grays', 'Greys'},\n {'Grays and Obsidians for the Society'},\n {'Grays and Oranges'},\n {'Grays, Pinks'},\n {'Greater hills'},\n {'Greatwoods'},\n {'Greek', 'Greeks', 'Green'},\n {'Greek', 'Greeks', 'Greens'},\n {'Greek', 'Green', 'Greens'},\n {'Greeks', 'Green', 'Greens'},\n {'Grays', 'Greys'},\n {'Grove'},\n {'Grubby Rusters'},\n {'Grumpy'},\n {'HC'},\n {'HCs'},\n {'HUD'},\n {'Hades'},\n {'Haemanthus'},\n {'Harmony'},\n {'Harpy'},\n {'Hav-v-ve the Minervans'},\n {'Helga'},\n {'Helldiver', 'Helldivers'},\n {'Helmsman'},\n {'Hephaestion'},\n {'HighReds'},\n {'Hildas'},\n {'Hildas Station'},\n {'Himalayan'},\n {'Homer'},\n {'House', 'Houses'},\n {'House Apollo'},\n {'House Arcos'},\n {'House Augustus'},\n {'House Bellona'},\n {'House Ceres'},\n {'House Falthe'},\n {'House Lune'},\n {'House Mars'},\n {'House Mercury'},\n {'House Minerva', 'House Minerva’s'},\n {'House Pluto'},\n {'House Venus'},\n {'Housemembers'},\n {'Howler', 'Howlers'},\n {'Hunt'},\n {'Huzzah'},\n {'I am Gold'},\n {'I am Peerless'},\n {'I am Reaper'},\n {'I am Scarred'},\n {'I am Tamara'},\n {'I am a Helldiver of Lykos'},\n {'I am of the Family Bellona'},\n {'I am of the Peerless Scarred'},\n {'I am of the gens'},\n {'I am of the gens Valii'},\n {'I am the Gold'},\n {'I am the Helldiver'},\n {'I am the Helldiver of my clan'},\n {'I am the Mighty Servant'},\n {'I am the Peerless Legate Gaius au Carthus'},\n {'I. Cassius'},\n {'Icarus'},\n {'Ice Throne'},\n {'Imperator', 'Imperators'},\n {'Imperator Bellona', 'Imperators Bellona'},\n {'Indian'},\n {'Institute'},\n {'Invictus'},\n {'Iona'},\n {'Iona au Bellona'},\n {'Irish'},\n {'Iro'},\n {'Iron Rains'},\n {'Ishtar'},\n {'Isles of Earth'},\n {'Italian'},\n {'Jackal', 'Jackals'},\n {'Japanese'},\n {'Jesus of Nazareth'},\n {'Jopho'},\n {'Jove'},\n {'Judiciar', 'Judiciars'},\n {'Julia au Bellona', 'Julian au Bellona', 'Julius au Bellona'},\n {'Julian'},\n {'Julia au Bellona',\n  'Julian au Bellona',\n  'Julius au Bellona',\n  'Kellan au Bellona'},\n {'Julian’s life in the Passage'},\n {'Julii'},\n {'Julius'},\n {'Juno'},\n {'Jupitareans'},\n {'Jupiter'},\n {'Jupiter Castle'},\n {'Jupiter House'},\n {'K-strip'},\n {'Karnus'},\n {'Karnus au Bellona'},\n {'Karnus head-butts'},\n {'Karnus’s Victory'},\n {'Kavax'},\n {'Kavax au Telemanus', 'Pax au Telemanus'},\n {'Keen'},\n {'Kellan'},\n {'Julian au Bellona', 'Kellan au Bellona'},\n {'Kieran'},\n {'Kieran’s'},\n {'Kill the Reaper'},\n {'Kora'},\n {'Kravat'},\n {'L17L6363'},\n {'Lady Bellona'},\n {'Lady Casterly'},\n {'Lady … Mustang'},\n {'Lagavulin'},\n {'Lambda', 'Lambdas'},\n {'Lambda Ls'},\n {'Lana'},\n {'Larmor'},\n {'Laurel', 'Laurels'},\n {'Laureltide'},\n {'Law'},\n {'Lazarus'},\n {'Lea'},\n {'Lea to Thistle'},\n {'Lea, Screwface, Clown, Thistle, Weed'},\n {'Leanna'},\n {'Least of all the Peerless Scarred'},\n {'Legate', 'Legates'},\n {'Leora'},\n {'Lesser Golds'},\n {'Leto'},\n {'Liam'},\n {'Liar'},\n {'Licenus'},\n {'Like the Little Goblin'},\n {'Lilath'},\n {'Lithe Roque'},\n {'Little Eo'},\n {'Lo'},\n {'Lo, Reaper'},\n {'London'},\n {'Loran', 'Lorn'},\n {'Lorn Stoneside'},\n {'Lorn au Arcos'},\n {'Lorn’s island'},\n {'Lost City'},\n {'Lucian'},\n {'Lucifer'},\n {'Luna'},\n {'Lune'},\n {'Luneborn'},\n {'Luneborn Gold'},\n {'Lykos'},\n {'Lykos Kravat'},\n {'Lykos Township'},\n {'Lykos’s Common'},\n {'Lysander'},\n {'Ma'},\n {'Machiavelli'},\n {'Malice'},\n {'Marcel'},\n {'Marco Polo'},\n {'Mark'},\n {'Mars'},\n {'Mars Castle'},\n {'Mars. Home'},\n {'Mars’s Institute'},\n {'Martian'},\n {'Martian Carvers'},\n {'Mask'},\n {'Matchless Leto'},\n {'Matteo'},\n {'Matteo, Pinks and Browns'},\n {'Maxwell'},\n {'May the Furies'},\n {'Medieval'},\n {'Medusa'},\n {'Mercury'},\n {'Mercury Proctor'},\n {'Merrywater'},\n {'Metas'},\n {'Mick'},\n {'Mickey'},\n {'Mickey the Carver'},\n {'Mickey’s club'},\n {'Milia'},\n {'Milia and Pax'},\n {'Milton'},\n {'Miltonian'},\n {'Mine Management'},\n {'MineMagistrate', 'MineMagistrates'},\n {'MineMagistrate Podginus'},\n {'MineMagistrate Timony'},\n {'MineMagistrate Timony cu Podginus'},\n {'Minerva', 'Minervan'},\n {'Minerva castle'},\n {'Minerva', 'Minervan', 'Minervans'},\n {'Minervan', 'Minervans'},\n {'Minerva’s warbands'},\n {'Minotaur'},\n {'Modjob'},\n {'Mohawk'},\n {'Moira'},\n {'Mongol'},\n {'Moon'},\n {'Morning Knight'},\n {'Mortals'},\n {'Mothermercy'},\n {'Mount Olympus'},\n {'Mozart'},\n {'Mu'},\n {'Muslim'},\n {'Musta'},\n {'Mustang', 'Mutang'},\n {'Nagoge'},\n {'Napoleon'},\n {'Narol'},\n {'Navia'},\n {'Nelson'},\n {'Neptune'},\n {'Nero'},\n {'Nero au Augustus'},\n {'New Thebes'},\n {'New Zealand'},\n {'Nexus au Celintus'},\n {'Ney'},\n {'No. Goblin'},\n {'Noah'},\n {'Noble'},\n {'Noble Minerva versus the Reaper of the Bloody Butcher House'},\n {'Norse'},\n {'North', 'Worth'},\n {'North Pole'},\n {'Northwoods'},\n {'Nortown'},\n {'Norvo'},\n {'Novas'},\n {'Now, House Mars'},\n {'Numbnuts'},\n {'Nyla'},\n {'Nyla … Milia'},\n {'Oathbreakers'},\n {'Observatory'},\n {'Obsidian', 'Obsidians'},\n {'Obsidian Praetorians'},\n {'Obsidians in threes, Grays'},\n {'Octavia'},\n {'Octavia au Lune'},\n {'Octobernacht'},\n {'Odysseus'},\n {'Ogre'},\n {'Oikos'},\n {'Old Earth'},\n {'Old Reaper'},\n {'Olympic'},\n {'An Olympic Knight',\n  'Olympic Knight',\n  'Olympic Knights',\n  'an Olympic Knight'},\n {'Olympic Knight', 'Olympic Knights', 'my Olympic Knights'},\n {'Olympus'},\n {'Olympus Mons'},\n {'Ol’ Ripper'},\n {'Omega', 'Omegas'},\n {'Oracle', 'Oracles'},\n {'Orange', 'Oranges'},\n {'Oranges and Blues'},\n {'Order Zero'},\n {'Orion'},\n {'Osgiliath'},\n {'Outriders'},\n {'Pandora'},\n {'Papa'},\n {'Passage'},\n {'Pat'},\n {'Pax'},\n {'Pax Solaris'},\n {'Daxo au Telemanus', 'Kavax au Telemanus', 'Pax au Telemanus'},\n {'Pax of Wise'},\n {'Pearl'},\n {'Pebble'},\n {'Peerless'},\n {'Peerless Augustus Loyalists'},\n {'Peerless Knight'},\n {'Peerless Scarred',\n  'The Peerless Scarred',\n  'a Peerless Scarred',\n  'no Peerless Scarred',\n  'the Peerless Scarred'},\n {'Pegasus'},\n {'Pelus'},\n {'Penance, 1984'},\n {'Penny Proctor'},\n {'Perfect Priam the Premier'},\n {'Perfidy'},\n {'Persephone'},\n {'Persians'},\n {'Petrichor'},\n {'Petty'},\n {'Pfah'},\n {'Phobos'},\n {'Phobos Tower'},\n {'Piano Concerto'},\n {'Pike'},\n {'Pink', 'Pinks'},\n {'Pinkwhore'},\n {'Pisser'},\n {'Pixie', 'Pixies'},\n {'Plague and Cure, Rebellion and Suppression, Natural Disaster'},\n {'Plate of those lucky'},\n {'Plato', 'Pluto'},\n {'Platoon of Grays'},\n {'Pliny'},\n {'Pliny au Velocitor'},\n {'Pluto, Jupiter'},\n {'Podginus'},\n {'Polemides'},\n {'Politico', 'Politicos'},\n {'Politico Pliny'},\n {'Pollux'},\n {'Praetor', 'Praetors'},\n {'Praetor Andromedus'},\n {'Praetor Darrow au Andromedus'},\n {'Praetor Kavax'},\n {'Praetor Kellan'},\n {'Praetor Knight'},\n {'Praetor Licenus'},\n {'Praetor Tiberius au Bellona'},\n {'Praetorian', 'Praetorians'},\n {'Praetorian Gold'},\n {'Praetorian Grays'},\n {'Priam'},\n {'Primus'},\n {'Primuses'},\n {'Proctor', 'Proctors'},\n {'Proctor Apollo', 'Proctors Apollo'},\n {'Proctor Ceres'},\n {'Proctor Fitchner'},\n {'Proctor Jupiter'},\n {'Proctor Mars'},\n {'Prometheus'},\n {'PulseArmor'},\n {'Pyrrhic'},\n {'Quaestor', 'Quaestors'},\n {'Quality Control'},\n {'Quarantine'},\n {'Quicksilver'},\n {'Quietus'},\n {'Quinn'},\n {'Quotas'},\n {'Rage Knight', 'a Rage Knight'},\n {'Ragnar'},\n {'Ragnar Volarus'},\n {'Ralph'},\n {'Rangar'},\n {'Rapscallion'},\n {'Rath'},\n {'Rawr'},\n {'Readout'},\n {'Reagan'},\n {'Reaper'},\n {'Reaping Dance'},\n {'Record Aja killing the Reaper'},\n {'Red'},\n {'Red at the Institute'},\n {'Reds'},\n {'Reformers'},\n {'Regulus ag Sun'},\n {'Rhea'},\n {'Righto'},\n {'Rim'},\n {'Ring Dancer'},\n {'Ripper'},\n {'Rise, Man of Mars'},\n {'Roman', 'Romans'},\n {'Romeo'},\n {'Roque'},\n {'Roque. Cassius'},\n {'Rose'},\n {'Rotback'},\n {'Rubicon'},\n {'Rubicon Beacons'},\n {'Rung'},\n {'Ruster'},\n {'Saturn'},\n {'Saturn’s'},\n {'Savagery'},\n {'Savagery to Ascendance'},\n {'Scarred'},\n {'Scepter Armada'},\n {'Scipia au Falthe'},\n {'Scipio au Bellona'},\n {'Screwface'},\n {'Sect', 'Sects'},\n {'Sefi the Quiet'},\n {'Senate'},\n {'Senators'},\n {'Severus'},\n {'Sevro'},\n {'Sevro Goblin'},\n {'Shamed'},\n {'Shell'},\n {'Shields'},\n {'Shithead'},\n {'Sigil', 'Sigils'},\n {'Silver', 'Silvers'},\n {'Silver and Copper'},\n {'Silvers and Golds'},\n {'Siren'},\n {'Slag'},\n {'Small Thistle'},\n {'Snake'},\n {'So Sons of Ares',\n  'Sons of Ares',\n  'The Sons of Ares',\n  'no Sons of Ares',\n  'the Sons of Ares'},\n {'Society'},\n {'Society Police'},\n {'Son of Linus'},\n {'Son of Mars'},\n {'Son of an Imperator'},\n {'So Sons of Ares', 'Sons of Ares', 'no Sons of Ares'},\n {'Sophocles'},\n {'Sottocenere'},\n {'South'},\n {'Southeast'},\n {'Sovereign', 'Sovereigns'},\n {'Sparta', 'Spartan'},\n {'Sparta', 'Spartan', 'Spartans'},\n {'Spartan', 'Spartans'},\n {'Spear'},\n {'Spine'},\n {'Squab'},\n {'Stained'},\n {'Stoneside'},\n {'Stratovarian'},\n {'Stuffy'},\n {'Styx'},\n {'Summer Coast'},\n {'Summit'},\n {'Sun-hwa'},\n {'Sunborn'},\n {'Swords of the Society'},\n {'System'},\n {'Tactus'},\n {'Tactus and Thistle'},\n {'Tactus au Rath'},\n {'Tactus au Valii-Rath'},\n {'Talon'},\n {'Tamara'},\n {'Tanos'},\n {'Telemanus', 'Telemanuses'},\n {'Ten Grays'},\n {'Tenderly'},\n {'The ArchGovernor of'},\n {'The Ash Lord', 'the Ash Lord'},\n {'The Ballad of Old Man Hickory'},\n {'The Bleeding Place', 'the Bleeding Place'},\n {'The Board of Quality Control', 'the Board of Quality Control'},\n {'The Colors'},\n {'The Count of Monte Cristo'},\n {'The Draconic Labels'},\n {'The Drafters of all the Houses'},\n {'The Elderwomen of Lykos'},\n {'The Galilean Lords'},\n {'The Governor of Rhea'},\n {'The Governors of Saturn', 'the Governors of Saturn'},\n {'The Grays'},\n {'The Great Gatsby'},\n {'The Harvest Goddess'},\n {'The Hearth Knight', 'the Hearth Knight'},\n {'The House Arcos'},\n {'The House Bellona', 'the House Bellona'},\n {'The House of Cylus'},\n {'The House of Grimmus'},\n {'The Iliad'},\n {'The Iliad, Ulysses, Metamorphosis'},\n {'The Insects of Specialization'},\n {'The Institute', 'the Institute'},\n {'The Jackal of Augustus and the Reaper of Mars'},\n {'The Moon Lords', 'the Moon Lords'},\n {'The Moons of Neptune'},\n {'The Noble Lie', 'the Noble Lie'},\n {'The Olympic Knights', 'my Olympic Knights', 'the Olympic Knights'},\n {'The Outer Reach'},\n {'The Passage'},\n {'The Primus of House'},\n {'The Proctor'},\n {'The Proctor of Apollo'},\n {'The Proctor of House Ceres'},\n {'The Rage Knight', 'a Rage Knight', 'the Rage Knight'},\n {'The Reaper of yours is dead'},\n {'The Reaping Dance', 'the Reaping Dance'},\n {'The Saturn Governors'},\n {'The Scar of a Peer'},\n {'The Sigils of his Color'},\n {'The Silent Dance'},\n {'The Sixth Fleet', 'the Sixth Fleet'},\n {'The Society’s Carvers'},\n {'So Sons of Ares',\n  'The Sons of Ares',\n  'no Sons of Ares',\n  'the Sons of Ares'},\n {'The Touch of Spring'},\n {'The Touch of Summer'},\n {'The Touch of Winter'},\n {'The United States of America'},\n {'The Willow Way', 'the Willow Way'},\n {'The Winding Wisp'},\n {'Theban'},\n {'Thebos'},\n {'Then House Apollo', 'the House Apollo'},\n {'Theodora'},\n {'Thermic Sea'},\n {'Thessalonica'},\n {'Thistle'},\n {'Thorne', 'Thornes'},\n {'Tiberius'},\n {'Timony cu Podginus'},\n {'Tinpot', 'Tinpots'},\n {'Titans'},\n {'Titus'},\n {'Titus au Ladros'},\n {'Toadstools'},\n {'Toni'},\n {'Towton'},\n {'Trembling'},\n {'Tribune', 'Tribunes'},\n {'Tricky'},\n {'Trimalchian'},\n {'Triton'},\n {'Triumph'},\n {'Tryst'},\n {'Tyros'},\n {'Ugly Dan'},\n {'Ugly Screwface'},\n {'Uncle'},\n {'Uncle Darrow'},\n {'Uncle Narol'},\n {'Upsilon', 'Upsilons'},\n {'Uranus'},\n {'Vale'},\n {'Valentin'},\n {'Valhalla'},\n {'Valii'},\n {'Valkyrie'},\n {'Valkyrie Spires'},\n {'Valles Marineris', 'the Valles Marineris'},\n {'Vanguard'},\n {'Varga'},\n {'Vebonna'},\n {'Venetia au Rein'},\n {'Venus'},\n {'Venus Housemembers'},\n {'Vespasian'},\n {'Victra'},\n {'Victra au Julii'},\n {'Vienna'},\n {'Vincent'},\n {'Violet', 'Violets'},\n {'Virga xe Aquarius'},\n {'Virgil'},\n {'Virginia'},\n {'Virginia au Augustus'},\n {'Vitalia au Grimmus'},\n {'Vixus'},\n {'Vixus, Vixus'},\n {'Vlad Dracula'},\n {'Voloxes'},\n {'Vulcan'},\n {'Warchild'},\n {'Webbery'},\n {'Weed'},\n {'Weed and Thistle'},\n {'Western Hemispheres'},\n {'Wheeler-Feynman'},\n {'White', 'Whites'},\n {'Whitecowls'},\n {'Wiggin'},\n {'Wilde'},\n {'Winged Horror'},\n {'Witch Pass'},\n {'Wolf'},\n {'Yellows'},\n {'Yielding'},\n {'Yorkton'},\n {'Young'},\n {'Yuletide'},\n {'Zanzibar'},\n {'Zanzibar the Carver'},\n {'a Bellona ArchGovernor'},\n {'a Blood War'},\n {'a Lambda Helldiver'},\n {'Rage Knight', 'The Rage Knight', 'a Rage Knight', 'the Rage Knight'},\n {'a Red Helldiver'},\n {'a Rose Garden'},\n {'a Stained in the Moon Kings’ Rebellion'},\n {'a Triumph Mask created by Violets in honor'},\n {'an Old Man'},\n {'moonBreaker'},\n {'An Olympic Knight',\n  'Olympic Knights',\n  'The Olympic Knights',\n  'an Olympic Knight',\n  'my Olympic Knights',\n  'the Olympic Knights'},\n {'southern Martian taiga'},\n {'the Agea Martial Club'},\n {'the Apollo Primus'},\n {'the ArchGoverness of Triton'},\n {'the Astrodian Greek Cluster', 'the Astrodian Trojan Cluster'},\n {'the Atlantic Alliance'},\n {'the Atlantic Fleet'},\n {'the Bellona Family'},\n {'the Carvers on the Pax'},\n {'the Center for Automotive Development'},\n {'the Chain Islands'},\n {'the Chateau le Breu'},\n {'the Citadel Gardens'},\n {'the Columns of Venus'},\n {'the Common'},\n {'the Compact of our Society', 'the Compact of the Society'},\n {'the Copernican Sect'},\n {'the Dancer’s Rebellion'},\n {'the Dark Rebellion'},\n {'the Dark Revolt'},\n {'the Department of Energy'},\n {'the Dragon’s Spine'},\n {'the Dueling Circuit'},\n {'the Elder Families'},\n {'the Empire of the Rising Sun'},\n {'the Fading Dirge'},\n {'the Fall of Earth'},\n {'the Fallen City'},\n {'the Family Arcos'},\n {'the Family Augustus'},\n {'the Family Bellona'},\n {'the Field of Mars'},\n {'the First Sword in the Solar System'},\n {'the Flies'},\n {'the Forbidden Song'},\n {'the Furor River'},\n {'the Galilean Institutes'},\n {'the Galilean Moons'},\n {'the Gas Giant Moons'},\n {'the Gas Giants'},\n {'the Gorgon Sea'},\n {'the Great Witch'},\n {'the Greatwoods of Diana'},\n {'the Hall of Blades'},\n {'the Helsa Cluster'},\n {'the High City'},\n {'Then House Apollo', 'the House Apollo', 'the House of Apollo'},\n {'the House Augustus', 'the House of Augustus'},\n {'the House Augustus for the Summit'},\n {'the House Telemanus'},\n {'the House Apollo', 'the House of Apollo'},\n {'the House of Mars'},\n {'the Howlers Thistle', 'the Howlers, Thistle'},\n {'the Indian Empire'},\n {'the Inner and Outer rims'},\n {'the Institute for the Jackal'},\n {'the Institute of Mars'},\n {'the Institutes of Venus'},\n {'the Institute’s Board of Quality Control'},\n {'the Iron Golds'},\n {'the Iron Rain'},\n {'the Jackal of the Mountains'},\n {'the L of Lambda'},\n {'the Lost Wee Den'},\n {'the Maginot Line'},\n {'the Mars Institute'},\n {'the Mars Opera House'},\n {'the Martian House Augustus'},\n {'the Midnight School'},\n {'the Mighty Servant'},\n {'the Moon Lords and the ArchGovernors of the Rim'},\n {'the Moon Rebellion'},\n {'the Moons of Saturn'},\n {'the Morning Knight'},\n {'the Morning Throne'},\n {'the Obsidian Color'},\n {'the Old Conquerors'},\n {'the Old Industrial Sector'},\n {'the Olympus Mons'},\n {'the Orange Docker'},\n {'the Order of the Sword'},\n {'the Outer Rim'},\n {'the Passage, Julian au Bellona'},\n {'the Pax Solaris'},\n {'the Politico School'},\n {'the Prefecture of Mars'},\n {'the Protean Knight'},\n {'the Pyrrus River'},\n {'the Quality Control Board'},\n {'the Reaper of Mars'},\n {'the Reaping Song'},\n {'the Rim'},\n {'the Rising Sun'},\n {'the Rubicon Beacons'},\n {'the Scepter Armada'},\n {'the Sigil of a Violet'},\n {'the Silent Art'},\n {'the Society'},\n {'the Society’s Compact'},\n {'the Society’s Legion'},\n {'the Society’s Sixth Fleet'},\n {'the Soggy Drop'},\n {'the Song of Persephone'},\n {'the Sovereign Consul'},\n {'the Sovereign of our little Society'},\n {'the Sovereign’s tower'},\n {'the Storm Knight'},\n {'the String Docks'},\n {'the Sword of House'},\n {'the Sword of Mars and the Rage Knight'},\n {'the Thousand Cities'},\n {'the Triumph Mask'},\n {'the Valkyrie Spires'},\n {'the Victory Armor'},\n {'the Waiting Place'},\n {'the Weeping Sun'},\n {'the Wind Knight'},\n {'the Yorkton Supernova'},\n {'the green canyon'},\n {'the green plains'},\n {'the north Metas'},\n {'the twelve Olympic Knights'},\n {'this First Year'}]"
     },
     "execution_count": 49,
     "metadata": {},
     "output_type": "execute_result"
    }
   ],
   "source": [
    "sim_sets = []\n",
    "\n",
    "for name, item in plot_df.items():\n",
    "    idx = item[item > 0].index.to_list()\n",
    "    idx.append(name)\n",
    "    idx = set(idx)\n",
    "    if idx not in sim_sets:\n",
    "        sim_sets.append(idx)\n",
    "\n",
    "print(len(sim_sets))\n",
    "sim_sets"
   ],
   "metadata": {
    "collapsed": false,
    "pycharm": {
     "name": "#%%\n"
    }
   }
  },
  {
   "cell_type": "code",
   "execution_count": 1,
   "outputs": [
    {
     "name": "stderr",
     "output_type": "stream",
     "text": [
      "WARNING:root:Pytorch pre-release version 1.12.0a0+git1af47a3 - assuming intent to test it\n"
     ]
    }
   ],
   "source": [
    "from allennlp.predictors.predictor import Predictor\n",
    "import allennlp_models.tagging"
   ],
   "metadata": {
    "collapsed": false,
    "pycharm": {
     "name": "#%%\n"
    }
   }
  },
  {
   "cell_type": "code",
   "execution_count": 3,
   "outputs": [
    {
     "ename": "KeyboardInterrupt",
     "evalue": "",
     "output_type": "error",
     "traceback": [
      "\u001B[0;31m---------------------------------------------------------------------------\u001B[0m",
      "\u001B[0;31mKeyboardInterrupt\u001B[0m                         Traceback (most recent call last)",
      "Input \u001B[0;32mIn [3]\u001B[0m, in \u001B[0;36m<cell line: 1>\u001B[0;34m()\u001B[0m\n\u001B[0;32m----> 1\u001B[0m predictor \u001B[38;5;241m=\u001B[39m \u001B[43mPredictor\u001B[49m\u001B[38;5;241;43m.\u001B[39;49m\u001B[43mfrom_path\u001B[49m\u001B[43m(\u001B[49m\u001B[38;5;124;43m\"\u001B[39;49m\u001B[38;5;124;43mhttps://storage.googleapis.com/allennlp-public-models/coref-spanbert-large-2021.03.10.tar.gz\u001B[39;49m\u001B[38;5;124;43m\"\u001B[39;49m\u001B[43m)\u001B[49m\n",
      "File \u001B[0;32m~/miniforge3/envs/irtm/lib/python3.9/site-packages/allennlp/predictors/predictor.py:365\u001B[0m, in \u001B[0;36mPredictor.from_path\u001B[0;34m(cls, archive_path, predictor_name, cuda_device, dataset_reader_to_load, frozen, import_plugins, overrides, **kwargs)\u001B[0m\n\u001B[1;32m    363\u001B[0m \u001B[38;5;28;01mif\u001B[39;00m import_plugins:\n\u001B[1;32m    364\u001B[0m     plugins\u001B[38;5;241m.\u001B[39mimport_plugins()\n\u001B[0;32m--> 365\u001B[0m \u001B[38;5;28;01mreturn\u001B[39;00m \u001B[43mPredictor\u001B[49m\u001B[38;5;241;43m.\u001B[39;49m\u001B[43mfrom_archive\u001B[49m\u001B[43m(\u001B[49m\n\u001B[1;32m    366\u001B[0m \u001B[43m    \u001B[49m\u001B[43mload_archive\u001B[49m\u001B[43m(\u001B[49m\u001B[43marchive_path\u001B[49m\u001B[43m,\u001B[49m\u001B[43m \u001B[49m\u001B[43mcuda_device\u001B[49m\u001B[38;5;241;43m=\u001B[39;49m\u001B[43mcuda_device\u001B[49m\u001B[43m,\u001B[49m\u001B[43m \u001B[49m\u001B[43moverrides\u001B[49m\u001B[38;5;241;43m=\u001B[39;49m\u001B[43moverrides\u001B[49m\u001B[43m)\u001B[49m\u001B[43m,\u001B[49m\n\u001B[1;32m    367\u001B[0m \u001B[43m    \u001B[49m\u001B[43mpredictor_name\u001B[49m\u001B[43m,\u001B[49m\n\u001B[1;32m    368\u001B[0m \u001B[43m    \u001B[49m\u001B[43mdataset_reader_to_load\u001B[49m\u001B[38;5;241;43m=\u001B[39;49m\u001B[43mdataset_reader_to_load\u001B[49m\u001B[43m,\u001B[49m\n\u001B[1;32m    369\u001B[0m \u001B[43m    \u001B[49m\u001B[43mfrozen\u001B[49m\u001B[38;5;241;43m=\u001B[39;49m\u001B[43mfrozen\u001B[49m\u001B[43m,\u001B[49m\n\u001B[1;32m    370\u001B[0m \u001B[43m    \u001B[49m\u001B[43mextra_args\u001B[49m\u001B[38;5;241;43m=\u001B[39;49m\u001B[43mkwargs\u001B[49m\u001B[43m,\u001B[49m\n\u001B[1;32m    371\u001B[0m \u001B[43m\u001B[49m\u001B[43m)\u001B[49m\n",
      "File \u001B[0;32m~/miniforge3/envs/irtm/lib/python3.9/site-packages/allennlp/predictors/predictor.py:414\u001B[0m, in \u001B[0;36mPredictor.from_archive\u001B[0;34m(cls, archive, predictor_name, dataset_reader_to_load, frozen, extra_args)\u001B[0m\n\u001B[1;32m    411\u001B[0m \u001B[38;5;28;01mif\u001B[39;00m extra_args \u001B[38;5;129;01mis\u001B[39;00m \u001B[38;5;28;01mNone\u001B[39;00m:\n\u001B[1;32m    412\u001B[0m     extra_args \u001B[38;5;241m=\u001B[39m {}\n\u001B[0;32m--> 414\u001B[0m \u001B[38;5;28;01mreturn\u001B[39;00m \u001B[43mpredictor_class\u001B[49m\u001B[43m(\u001B[49m\u001B[43mmodel\u001B[49m\u001B[43m,\u001B[49m\u001B[43m \u001B[49m\u001B[43mdataset_reader\u001B[49m\u001B[43m,\u001B[49m\u001B[43m \u001B[49m\u001B[38;5;241;43m*\u001B[39;49m\u001B[38;5;241;43m*\u001B[39;49m\u001B[43mextra_args\u001B[49m\u001B[43m)\u001B[49m\n",
      "File \u001B[0;32m~/miniforge3/envs/irtm/lib/python3.9/site-packages/allennlp_models/coref/predictors/coref.py:30\u001B[0m, in \u001B[0;36mCorefPredictor.__init__\u001B[0;34m(self, model, dataset_reader, language)\u001B[0m\n\u001B[1;32m     26\u001B[0m \u001B[38;5;28msuper\u001B[39m()\u001B[38;5;241m.\u001B[39m\u001B[38;5;21m__init__\u001B[39m(model, dataset_reader)\n\u001B[1;32m     28\u001B[0m \u001B[38;5;66;03m# We have to use spacy to tokenize our document here, because we need\u001B[39;00m\n\u001B[1;32m     29\u001B[0m \u001B[38;5;66;03m# to also know sentence boundaries to propose valid mentions.\u001B[39;00m\n\u001B[0;32m---> 30\u001B[0m \u001B[38;5;28mself\u001B[39m\u001B[38;5;241m.\u001B[39m_spacy \u001B[38;5;241m=\u001B[39m \u001B[43mget_spacy_model\u001B[49m\u001B[43m(\u001B[49m\u001B[43mlanguage\u001B[49m\u001B[43m,\u001B[49m\u001B[43m \u001B[49m\u001B[43mpos_tags\u001B[49m\u001B[38;5;241;43m=\u001B[39;49m\u001B[38;5;28;43;01mTrue\u001B[39;49;00m\u001B[43m,\u001B[49m\u001B[43m \u001B[49m\u001B[43mparse\u001B[49m\u001B[38;5;241;43m=\u001B[39;49m\u001B[38;5;28;43;01mTrue\u001B[39;49;00m\u001B[43m,\u001B[49m\u001B[43m \u001B[49m\u001B[43mner\u001B[49m\u001B[38;5;241;43m=\u001B[39;49m\u001B[38;5;28;43;01mFalse\u001B[39;49;00m\u001B[43m)\u001B[49m\n",
      "File \u001B[0;32m~/miniforge3/envs/irtm/lib/python3.9/site-packages/allennlp/common/util.py:292\u001B[0m, in \u001B[0;36mget_spacy_model\u001B[0;34m(spacy_model_name, pos_tags, parse, ner)\u001B[0m\n\u001B[1;32m    289\u001B[0m         spacy_model \u001B[38;5;241m=\u001B[39m spacy_model_module\u001B[38;5;241m.\u001B[39mload(disable\u001B[38;5;241m=\u001B[39mdisable)  \u001B[38;5;66;03m# type: ignore\u001B[39;00m\n\u001B[1;32m    291\u001B[0m     LOADED_SPACY_MODELS[options] \u001B[38;5;241m=\u001B[39m spacy_model\n\u001B[0;32m--> 292\u001B[0m \u001B[38;5;28;01mreturn\u001B[39;00m \u001B[43mLOADED_SPACY_MODELS\u001B[49m[options]\n",
      "File \u001B[0;32m~/miniforge3/envs/irtm/lib/python3.9/site-packages/allennlp/common/util.py:292\u001B[0m, in \u001B[0;36mget_spacy_model\u001B[0;34m(spacy_model_name, pos_tags, parse, ner)\u001B[0m\n\u001B[1;32m    289\u001B[0m         spacy_model \u001B[38;5;241m=\u001B[39m spacy_model_module\u001B[38;5;241m.\u001B[39mload(disable\u001B[38;5;241m=\u001B[39mdisable)  \u001B[38;5;66;03m# type: ignore\u001B[39;00m\n\u001B[1;32m    291\u001B[0m     LOADED_SPACY_MODELS[options] \u001B[38;5;241m=\u001B[39m spacy_model\n\u001B[0;32m--> 292\u001B[0m \u001B[38;5;28;01mreturn\u001B[39;00m \u001B[43mLOADED_SPACY_MODELS\u001B[49m[options]\n",
      "File \u001B[0;32m~/Library/Application Support/JetBrains/Toolbox/apps/PyCharm-P/ch-0/221.5591.52/PyCharm.app/Contents/plugins/python/helpers/pydev/_pydevd_bundle/pydevd_frame.py:884\u001B[0m, in \u001B[0;36mPyDBFrame.trace_dispatch\u001B[0;34m(self, frame, event, arg)\u001B[0m\n\u001B[1;32m    882\u001B[0m \u001B[38;5;28;01mif\u001B[39;00m is_line:\n\u001B[1;32m    883\u001B[0m     \u001B[38;5;28mself\u001B[39m\u001B[38;5;241m.\u001B[39mset_suspend(thread, step_cmd)\n\u001B[0;32m--> 884\u001B[0m     \u001B[38;5;28;43mself\u001B[39;49m\u001B[38;5;241;43m.\u001B[39;49m\u001B[43mdo_wait_suspend\u001B[49m\u001B[43m(\u001B[49m\u001B[43mthread\u001B[49m\u001B[43m,\u001B[49m\u001B[43m \u001B[49m\u001B[43mframe\u001B[49m\u001B[43m,\u001B[49m\u001B[43m \u001B[49m\u001B[43mevent\u001B[49m\u001B[43m,\u001B[49m\u001B[43m \u001B[49m\u001B[43marg\u001B[49m\u001B[43m)\u001B[49m\n\u001B[1;32m    885\u001B[0m \u001B[38;5;28;01melse\u001B[39;00m:  \u001B[38;5;66;03m# return event\u001B[39;00m\n\u001B[1;32m    886\u001B[0m     back \u001B[38;5;241m=\u001B[39m frame\u001B[38;5;241m.\u001B[39mf_back\n",
      "File \u001B[0;32m~/Library/Application Support/JetBrains/Toolbox/apps/PyCharm-P/ch-0/221.5591.52/PyCharm.app/Contents/plugins/python/helpers/pydev/_pydevd_bundle/pydevd_frame.py:144\u001B[0m, in \u001B[0;36mPyDBFrame.do_wait_suspend\u001B[0;34m(self, *args, **kwargs)\u001B[0m\n\u001B[1;32m    143\u001B[0m \u001B[38;5;28;01mdef\u001B[39;00m \u001B[38;5;21mdo_wait_suspend\u001B[39m(\u001B[38;5;28mself\u001B[39m, \u001B[38;5;241m*\u001B[39margs, \u001B[38;5;241m*\u001B[39m\u001B[38;5;241m*\u001B[39mkwargs):\n\u001B[0;32m--> 144\u001B[0m     \u001B[38;5;28;43mself\u001B[39;49m\u001B[38;5;241;43m.\u001B[39;49m\u001B[43m_args\u001B[49m\u001B[43m[\u001B[49m\u001B[38;5;241;43m0\u001B[39;49m\u001B[43m]\u001B[49m\u001B[38;5;241;43m.\u001B[39;49m\u001B[43mdo_wait_suspend\u001B[49m\u001B[43m(\u001B[49m\u001B[38;5;241;43m*\u001B[39;49m\u001B[43margs\u001B[49m\u001B[43m,\u001B[49m\u001B[43m \u001B[49m\u001B[38;5;241;43m*\u001B[39;49m\u001B[38;5;241;43m*\u001B[39;49m\u001B[43mkwargs\u001B[49m\u001B[43m)\u001B[49m\n",
      "File \u001B[0;32m~/Library/Application Support/JetBrains/Toolbox/apps/PyCharm-P/ch-0/221.5591.52/PyCharm.app/Contents/plugins/python/helpers/pydev/pydevd.py:1155\u001B[0m, in \u001B[0;36mPyDB.do_wait_suspend\u001B[0;34m(self, thread, frame, event, arg, send_suspend_message, is_unhandled_exception)\u001B[0m\n\u001B[1;32m   1152\u001B[0m         from_this_thread\u001B[38;5;241m.\u001B[39mappend(frame_id)\n\u001B[1;32m   1154\u001B[0m \u001B[38;5;28;01mwith\u001B[39;00m \u001B[38;5;28mself\u001B[39m\u001B[38;5;241m.\u001B[39m_threads_suspended_single_notification\u001B[38;5;241m.\u001B[39mnotify_thread_suspended(thread_id, stop_reason):\n\u001B[0;32m-> 1155\u001B[0m     \u001B[38;5;28;43mself\u001B[39;49m\u001B[38;5;241;43m.\u001B[39;49m\u001B[43m_do_wait_suspend\u001B[49m\u001B[43m(\u001B[49m\u001B[43mthread\u001B[49m\u001B[43m,\u001B[49m\u001B[43m \u001B[49m\u001B[43mframe\u001B[49m\u001B[43m,\u001B[49m\u001B[43m \u001B[49m\u001B[43mevent\u001B[49m\u001B[43m,\u001B[49m\u001B[43m \u001B[49m\u001B[43marg\u001B[49m\u001B[43m,\u001B[49m\u001B[43m \u001B[49m\u001B[43msuspend_type\u001B[49m\u001B[43m,\u001B[49m\u001B[43m \u001B[49m\u001B[43mfrom_this_thread\u001B[49m\u001B[43m)\u001B[49m\n",
      "File \u001B[0;32m~/Library/Application Support/JetBrains/Toolbox/apps/PyCharm-P/ch-0/221.5591.52/PyCharm.app/Contents/plugins/python/helpers/pydev/pydevd.py:1170\u001B[0m, in \u001B[0;36mPyDB._do_wait_suspend\u001B[0;34m(self, thread, frame, event, arg, suspend_type, from_this_thread)\u001B[0m\n\u001B[1;32m   1167\u001B[0m             \u001B[38;5;28mself\u001B[39m\u001B[38;5;241m.\u001B[39m_call_mpl_hook()\n\u001B[1;32m   1169\u001B[0m         \u001B[38;5;28mself\u001B[39m\u001B[38;5;241m.\u001B[39mprocess_internal_commands()\n\u001B[0;32m-> 1170\u001B[0m         \u001B[43mtime\u001B[49m\u001B[38;5;241;43m.\u001B[39;49m\u001B[43msleep\u001B[49m\u001B[43m(\u001B[49m\u001B[38;5;241;43m0.01\u001B[39;49m\u001B[43m)\u001B[49m\n\u001B[1;32m   1172\u001B[0m \u001B[38;5;28mself\u001B[39m\u001B[38;5;241m.\u001B[39mcancel_async_evaluation(get_current_thread_id(thread), \u001B[38;5;28mstr\u001B[39m(\u001B[38;5;28mid\u001B[39m(frame)))\n\u001B[1;32m   1174\u001B[0m \u001B[38;5;66;03m# process any stepping instructions\u001B[39;00m\n",
      "\u001B[0;31mKeyboardInterrupt\u001B[0m: "
     ]
    }
   ],
   "source": [
    "predictor = Predictor.from_path(\"https://storage.googleapis.com/allennlp-public-models/coref-spanbert-large-2021.03.10.tar.gz\")"
   ],
   "metadata": {
    "collapsed": false,
    "pycharm": {
     "name": "#%%\n"
    }
   }
  },
  {
   "cell_type": "code",
   "execution_count": 25,
   "outputs": [
    {
     "name": "stderr",
     "output_type": "stream",
     "text": [
      "/Users/benedikt/miniforge3/envs/irtm/lib/python3.9/site-packages/allennlp/modules/token_embedders/pretrained_transformer_embedder.py:385: UserWarning: __floordiv__ is deprecated, and its behavior will change in a future version of pytorch. It currently rounds toward 0 (like the 'trunc' function NOT 'floor'). This results in incorrect rounding for negative values. To keep the current behavior, use torch.div(a, b, rounding_mode='trunc'), or for actual floor division, use torch.div(a, b, rounding_mode='floor').\n",
      "  num_effective_segments = (seq_lengths + self._max_length - 1) // self._max_length\n",
      "/Users/benedikt/miniforge3/envs/irtm/lib/python3.9/site-packages/allennlp/modules/token_embedders/pretrained_transformer_embedder.py:385: UserWarning: __floordiv__ is deprecated, and its behavior will change in a future version of pytorch. It currently rounds toward 0 (like the 'trunc' function NOT 'floor'). This results in incorrect rounding for negative values. To keep the current behavior, use torch.div(a, b, rounding_mode='trunc'), or for actual floor division, use torch.div(a, b, rounding_mode='floor').\n",
      "  num_effective_segments = (seq_lengths + self._max_length - 1) // self._max_length\n"
     ]
    },
    {
     "ename": "KeyboardInterrupt",
     "evalue": "",
     "output_type": "error",
     "traceback": [
      "\u001B[0;31m---------------------------------------------------------------------------\u001B[0m",
      "\u001B[0;31mKeyboardInterrupt\u001B[0m                         Traceback (most recent call last)",
      "Input \u001B[0;32mIn [25]\u001B[0m, in \u001B[0;36m<cell line: 2>\u001B[0;34m()\u001B[0m\n\u001B[1;32m      1\u001B[0m span_predictions \u001B[38;5;241m=\u001B[39m pd\u001B[38;5;241m.\u001B[39mDataFrame(columns\u001B[38;5;241m=\u001B[39m[\u001B[38;5;124m\"\u001B[39m\u001B[38;5;124mbook\u001B[39m\u001B[38;5;124m\"\u001B[39m, \u001B[38;5;124m\"\u001B[39m\u001B[38;5;124mchapter\u001B[39m\u001B[38;5;124m\"\u001B[39m, \u001B[38;5;124m\"\u001B[39m\u001B[38;5;124mtop_spans\u001B[39m\u001B[38;5;124m\"\u001B[39m, \u001B[38;5;124m\"\u001B[39m\u001B[38;5;124mantecedent_indices\u001B[39m\u001B[38;5;124m\"\u001B[39m, \u001B[38;5;124m\"\u001B[39m\u001B[38;5;124mpredicted_antecedents\u001B[39m\u001B[38;5;124m\"\u001B[39m, \u001B[38;5;124m\"\u001B[39m\u001B[38;5;124mdocument\u001B[39m\u001B[38;5;124m\"\u001B[39m, \u001B[38;5;124m\"\u001B[39m\u001B[38;5;124mclusters\u001B[39m\u001B[38;5;124m\"\u001B[39m])\n\u001B[1;32m      2\u001B[0m \u001B[38;5;28;01mfor\u001B[39;00m idx, (book, chapter, text) \u001B[38;5;129;01min\u001B[39;00m text_df[[\u001B[38;5;124m\"\u001B[39m\u001B[38;5;124mbook\u001B[39m\u001B[38;5;124m\"\u001B[39m, \u001B[38;5;124m\"\u001B[39m\u001B[38;5;124mchapter\u001B[39m\u001B[38;5;124m\"\u001B[39m, \u001B[38;5;124m\"\u001B[39m\u001B[38;5;124mtext\u001B[39m\u001B[38;5;124m\"\u001B[39m]]\u001B[38;5;241m.\u001B[39miterrows():\n\u001B[0;32m----> 3\u001B[0m     prediction \u001B[38;5;241m=\u001B[39m \u001B[43mpredictor\u001B[49m\u001B[38;5;241;43m.\u001B[39;49m\u001B[43mpredict\u001B[49m\u001B[43m(\u001B[49m\u001B[43mtext\u001B[49m\u001B[43m)\u001B[49m\n\u001B[1;32m      4\u001B[0m     span_predictions\u001B[38;5;241m.\u001B[39mloc[idx] \u001B[38;5;241m=\u001B[39m pd\u001B[38;5;241m.\u001B[39mSeries({\n\u001B[1;32m      5\u001B[0m         \u001B[38;5;124m\"\u001B[39m\u001B[38;5;124mbook\u001B[39m\u001B[38;5;124m\"\u001B[39m: book,\n\u001B[1;32m      6\u001B[0m         \u001B[38;5;124m\"\u001B[39m\u001B[38;5;124mchapter\u001B[39m\u001B[38;5;124m\"\u001B[39m: chapter,\n\u001B[0;32m   (...)\u001B[0m\n\u001B[1;32m     11\u001B[0m         \u001B[38;5;124m\"\u001B[39m\u001B[38;5;124mclusters\u001B[39m\u001B[38;5;124m\"\u001B[39m: prediction[\u001B[38;5;124m\"\u001B[39m\u001B[38;5;124mclusters\u001B[39m\u001B[38;5;124m\"\u001B[39m]\n\u001B[1;32m     12\u001B[0m     })\n",
      "File \u001B[0;32m~/miniforge3/envs/irtm/lib/python3.9/site-packages/allennlp_models/coref/predictors/coref.py:64\u001B[0m, in \u001B[0;36mCorefPredictor.predict\u001B[0;34m(self, document)\u001B[0m\n\u001B[1;32m     32\u001B[0m \u001B[38;5;28;01mdef\u001B[39;00m \u001B[38;5;21mpredict\u001B[39m(\u001B[38;5;28mself\u001B[39m, document: \u001B[38;5;28mstr\u001B[39m) \u001B[38;5;241m-\u001B[39m\u001B[38;5;241m>\u001B[39m JsonDict:\n\u001B[1;32m     33\u001B[0m     \u001B[38;5;124;03m\"\"\"\u001B[39;00m\n\u001B[1;32m     34\u001B[0m \u001B[38;5;124;03m    Predict the coreference clusters in the given document.\u001B[39;00m\n\u001B[1;32m     35\u001B[0m \n\u001B[0;32m   (...)\u001B[0m\n\u001B[1;32m     62\u001B[0m \u001B[38;5;124;03m    A dictionary representation of the predicted coreference clusters.\u001B[39;00m\n\u001B[1;32m     63\u001B[0m \u001B[38;5;124;03m    \"\"\"\u001B[39;00m\n\u001B[0;32m---> 64\u001B[0m     \u001B[38;5;28;01mreturn\u001B[39;00m \u001B[38;5;28;43mself\u001B[39;49m\u001B[38;5;241;43m.\u001B[39;49m\u001B[43mpredict_json\u001B[49m\u001B[43m(\u001B[49m\u001B[43m{\u001B[49m\u001B[38;5;124;43m\"\u001B[39;49m\u001B[38;5;124;43mdocument\u001B[39;49m\u001B[38;5;124;43m\"\u001B[39;49m\u001B[43m:\u001B[49m\u001B[43m \u001B[49m\u001B[43mdocument\u001B[49m\u001B[43m}\u001B[49m\u001B[43m)\u001B[49m\n",
      "File \u001B[0;32m~/miniforge3/envs/irtm/lib/python3.9/site-packages/allennlp/predictors/predictor.py:55\u001B[0m, in \u001B[0;36mPredictor.predict_json\u001B[0;34m(self, inputs)\u001B[0m\n\u001B[1;32m     53\u001B[0m \u001B[38;5;28;01mdef\u001B[39;00m \u001B[38;5;21mpredict_json\u001B[39m(\u001B[38;5;28mself\u001B[39m, inputs: JsonDict) \u001B[38;5;241m-\u001B[39m\u001B[38;5;241m>\u001B[39m JsonDict:\n\u001B[1;32m     54\u001B[0m     instance \u001B[38;5;241m=\u001B[39m \u001B[38;5;28mself\u001B[39m\u001B[38;5;241m.\u001B[39m_json_to_instance(inputs)\n\u001B[0;32m---> 55\u001B[0m     \u001B[38;5;28;01mreturn\u001B[39;00m \u001B[38;5;28;43mself\u001B[39;49m\u001B[38;5;241;43m.\u001B[39;49m\u001B[43mpredict_instance\u001B[49m\u001B[43m(\u001B[49m\u001B[43minstance\u001B[49m\u001B[43m)\u001B[49m\n",
      "File \u001B[0;32m~/miniforge3/envs/irtm/lib/python3.9/site-packages/allennlp/predictors/predictor.py:263\u001B[0m, in \u001B[0;36mPredictor.predict_instance\u001B[0;34m(self, instance)\u001B[0m\n\u001B[1;32m    261\u001B[0m \u001B[38;5;28;01mdef\u001B[39;00m \u001B[38;5;21mpredict_instance\u001B[39m(\u001B[38;5;28mself\u001B[39m, instance: Instance) \u001B[38;5;241m-\u001B[39m\u001B[38;5;241m>\u001B[39m JsonDict:\n\u001B[1;32m    262\u001B[0m     \u001B[38;5;28mself\u001B[39m\u001B[38;5;241m.\u001B[39m_dataset_reader\u001B[38;5;241m.\u001B[39mapply_token_indexers(instance)\n\u001B[0;32m--> 263\u001B[0m     outputs \u001B[38;5;241m=\u001B[39m \u001B[38;5;28;43mself\u001B[39;49m\u001B[38;5;241;43m.\u001B[39;49m\u001B[43m_model\u001B[49m\u001B[38;5;241;43m.\u001B[39;49m\u001B[43mforward_on_instance\u001B[49m\u001B[43m(\u001B[49m\u001B[43minstance\u001B[49m\u001B[43m)\u001B[49m\n\u001B[1;32m    264\u001B[0m     \u001B[38;5;28;01mreturn\u001B[39;00m sanitize(outputs)\n",
      "File \u001B[0;32m~/miniforge3/envs/irtm/lib/python3.9/site-packages/allennlp/models/model.py:191\u001B[0m, in \u001B[0;36mModel.forward_on_instance\u001B[0;34m(self, instance)\u001B[0m\n\u001B[1;32m    183\u001B[0m \u001B[38;5;28;01mdef\u001B[39;00m \u001B[38;5;21mforward_on_instance\u001B[39m(\u001B[38;5;28mself\u001B[39m, instance: Instance) \u001B[38;5;241m-\u001B[39m\u001B[38;5;241m>\u001B[39m Dict[\u001B[38;5;28mstr\u001B[39m, numpy\u001B[38;5;241m.\u001B[39mndarray]:\n\u001B[1;32m    184\u001B[0m     \u001B[38;5;124;03m\"\"\"\u001B[39;00m\n\u001B[1;32m    185\u001B[0m \u001B[38;5;124;03m    Takes an [`Instance`](../data/instance.md), which typically has raw text in it, converts\u001B[39;00m\n\u001B[1;32m    186\u001B[0m \u001B[38;5;124;03m    that text into arrays using this model's [`Vocabulary`](../data/vocabulary.md), passes those\u001B[39;00m\n\u001B[0;32m   (...)\u001B[0m\n\u001B[1;32m    189\u001B[0m \u001B[38;5;124;03m    `torch.Tensors` into numpy arrays and remove the batch dimension.\u001B[39;00m\n\u001B[1;32m    190\u001B[0m \u001B[38;5;124;03m    \"\"\"\u001B[39;00m\n\u001B[0;32m--> 191\u001B[0m     \u001B[38;5;28;01mreturn\u001B[39;00m \u001B[38;5;28;43mself\u001B[39;49m\u001B[38;5;241;43m.\u001B[39;49m\u001B[43mforward_on_instances\u001B[49m\u001B[43m(\u001B[49m\u001B[43m[\u001B[49m\u001B[43minstance\u001B[49m\u001B[43m]\u001B[49m\u001B[43m)\u001B[49m[\u001B[38;5;241m0\u001B[39m]\n",
      "File \u001B[0;32m~/miniforge3/envs/irtm/lib/python3.9/site-packages/allennlp/models/model.py:217\u001B[0m, in \u001B[0;36mModel.forward_on_instances\u001B[0;34m(self, instances)\u001B[0m\n\u001B[1;32m    215\u001B[0m dataset\u001B[38;5;241m.\u001B[39mindex_instances(\u001B[38;5;28mself\u001B[39m\u001B[38;5;241m.\u001B[39mvocab)\n\u001B[1;32m    216\u001B[0m model_input \u001B[38;5;241m=\u001B[39m util\u001B[38;5;241m.\u001B[39mmove_to_device(dataset\u001B[38;5;241m.\u001B[39mas_tensor_dict(), cuda_device)\n\u001B[0;32m--> 217\u001B[0m outputs \u001B[38;5;241m=\u001B[39m \u001B[38;5;28mself\u001B[39m\u001B[38;5;241m.\u001B[39mmake_output_human_readable(\u001B[38;5;28;43mself\u001B[39;49m\u001B[43m(\u001B[49m\u001B[38;5;241;43m*\u001B[39;49m\u001B[38;5;241;43m*\u001B[39;49m\u001B[43mmodel_input\u001B[49m\u001B[43m)\u001B[49m)\n\u001B[1;32m    219\u001B[0m instance_separated_output: List[Dict[\u001B[38;5;28mstr\u001B[39m, numpy\u001B[38;5;241m.\u001B[39mndarray]] \u001B[38;5;241m=\u001B[39m [\n\u001B[1;32m    220\u001B[0m     {} \u001B[38;5;28;01mfor\u001B[39;00m _ \u001B[38;5;129;01min\u001B[39;00m dataset\u001B[38;5;241m.\u001B[39minstances\n\u001B[1;32m    221\u001B[0m ]\n\u001B[1;32m    222\u001B[0m \u001B[38;5;28;01mfor\u001B[39;00m name, output \u001B[38;5;129;01min\u001B[39;00m \u001B[38;5;28mlist\u001B[39m(outputs\u001B[38;5;241m.\u001B[39mitems()):\n",
      "File \u001B[0;32m~/PycharmProjects/IRTM/pytorch/torch/nn/modules/module.py:1130\u001B[0m, in \u001B[0;36mModule._call_impl\u001B[0;34m(self, *input, **kwargs)\u001B[0m\n\u001B[1;32m   1126\u001B[0m \u001B[38;5;66;03m# If we don't have any hooks, we want to skip the rest of the logic in\u001B[39;00m\n\u001B[1;32m   1127\u001B[0m \u001B[38;5;66;03m# this function, and just call forward.\u001B[39;00m\n\u001B[1;32m   1128\u001B[0m \u001B[38;5;28;01mif\u001B[39;00m \u001B[38;5;129;01mnot\u001B[39;00m (\u001B[38;5;28mself\u001B[39m\u001B[38;5;241m.\u001B[39m_backward_hooks \u001B[38;5;129;01mor\u001B[39;00m \u001B[38;5;28mself\u001B[39m\u001B[38;5;241m.\u001B[39m_forward_hooks \u001B[38;5;129;01mor\u001B[39;00m \u001B[38;5;28mself\u001B[39m\u001B[38;5;241m.\u001B[39m_forward_pre_hooks \u001B[38;5;129;01mor\u001B[39;00m _global_backward_hooks\n\u001B[1;32m   1129\u001B[0m         \u001B[38;5;129;01mor\u001B[39;00m _global_forward_hooks \u001B[38;5;129;01mor\u001B[39;00m _global_forward_pre_hooks):\n\u001B[0;32m-> 1130\u001B[0m     \u001B[38;5;28;01mreturn\u001B[39;00m \u001B[43mforward_call\u001B[49m\u001B[43m(\u001B[49m\u001B[38;5;241;43m*\u001B[39;49m\u001B[38;5;28;43minput\u001B[39;49m\u001B[43m,\u001B[49m\u001B[43m \u001B[49m\u001B[38;5;241;43m*\u001B[39;49m\u001B[38;5;241;43m*\u001B[39;49m\u001B[43mkwargs\u001B[49m\u001B[43m)\u001B[49m\n\u001B[1;32m   1131\u001B[0m \u001B[38;5;66;03m# Do not call functions when jit is used\u001B[39;00m\n\u001B[1;32m   1132\u001B[0m full_backward_hooks, non_full_backward_hooks \u001B[38;5;241m=\u001B[39m [], []\n",
      "File \u001B[0;32m~/miniforge3/envs/irtm/lib/python3.9/site-packages/allennlp_models/coref/models/coref.py:280\u001B[0m, in \u001B[0;36mCoreferenceResolver.forward\u001B[0;34m(self, text, spans, span_labels, metadata)\u001B[0m\n\u001B[1;32m    276\u001B[0m top_antecedent_embeddings \u001B[38;5;241m=\u001B[39m util\u001B[38;5;241m.\u001B[39mbatched_index_select(\n\u001B[1;32m    277\u001B[0m     top_span_embeddings, top_antecedent_indices, flat_top_antecedent_indices\n\u001B[1;32m    278\u001B[0m )\n\u001B[1;32m    279\u001B[0m \u001B[38;5;66;03m# Shape: (batch_size, num_spans_to_keep, 1 + max_antecedents)\u001B[39;00m\n\u001B[0;32m--> 280\u001B[0m coreference_scores \u001B[38;5;241m=\u001B[39m \u001B[38;5;28;43mself\u001B[39;49m\u001B[38;5;241;43m.\u001B[39;49m\u001B[43m_compute_coreference_scores\u001B[49m\u001B[43m(\u001B[49m\n\u001B[1;32m    281\u001B[0m \u001B[43m    \u001B[49m\u001B[43mtop_span_embeddings\u001B[49m\u001B[43m,\u001B[49m\n\u001B[1;32m    282\u001B[0m \u001B[43m    \u001B[49m\u001B[43mtop_antecedent_embeddings\u001B[49m\u001B[43m,\u001B[49m\n\u001B[1;32m    283\u001B[0m \u001B[43m    \u001B[49m\u001B[43mtop_partial_coreference_scores\u001B[49m\u001B[43m,\u001B[49m\n\u001B[1;32m    284\u001B[0m \u001B[43m    \u001B[49m\u001B[43mtop_antecedent_mask\u001B[49m\u001B[43m,\u001B[49m\n\u001B[1;32m    285\u001B[0m \u001B[43m    \u001B[49m\u001B[43mtop_antecedent_offsets\u001B[49m\u001B[43m,\u001B[49m\n\u001B[1;32m    286\u001B[0m \u001B[43m\u001B[49m\u001B[43m)\u001B[49m\n\u001B[1;32m    288\u001B[0m \u001B[38;5;28;01mfor\u001B[39;00m _ \u001B[38;5;129;01min\u001B[39;00m \u001B[38;5;28mrange\u001B[39m(\u001B[38;5;28mself\u001B[39m\u001B[38;5;241m.\u001B[39m_inference_order \u001B[38;5;241m-\u001B[39m \u001B[38;5;241m1\u001B[39m):\n\u001B[1;32m    289\u001B[0m     dummy_mask \u001B[38;5;241m=\u001B[39m top_antecedent_mask\u001B[38;5;241m.\u001B[39mnew_ones(batch_size, num_spans_to_keep, \u001B[38;5;241m1\u001B[39m)\n",
      "File \u001B[0;32m~/miniforge3/envs/irtm/lib/python3.9/site-packages/allennlp_models/coref/models/coref.py:852\u001B[0m, in \u001B[0;36mCoreferenceResolver._compute_coreference_scores\u001B[0;34m(self, top_span_embeddings, top_antecedent_embeddings, top_partial_coreference_scores, top_antecedent_mask, top_antecedent_offsets)\u001B[0m\n\u001B[1;32m    815\u001B[0m \u001B[38;5;124;03m\"\"\"\u001B[39;00m\n\u001B[1;32m    816\u001B[0m \u001B[38;5;124;03mComputes scores for every pair of spans. Additionally, a dummy label is included,\u001B[39;00m\n\u001B[1;32m    817\u001B[0m \u001B[38;5;124;03mrepresenting the decision that the span is not coreferent with anything. For the dummy\u001B[39;00m\n\u001B[0;32m   (...)\u001B[0m\n\u001B[1;32m    849\u001B[0m \n\u001B[1;32m    850\u001B[0m \u001B[38;5;124;03m\"\"\"\u001B[39;00m\n\u001B[1;32m    851\u001B[0m \u001B[38;5;66;03m# Shape: (batch_size, num_spans_to_keep, max_antecedents, embedding_size)\u001B[39;00m\n\u001B[0;32m--> 852\u001B[0m span_pair_embeddings \u001B[38;5;241m=\u001B[39m \u001B[38;5;28;43mself\u001B[39;49m\u001B[38;5;241;43m.\u001B[39;49m\u001B[43m_compute_span_pair_embeddings\u001B[49m\u001B[43m(\u001B[49m\n\u001B[1;32m    853\u001B[0m \u001B[43m    \u001B[49m\u001B[43mtop_span_embeddings\u001B[49m\u001B[43m,\u001B[49m\u001B[43m \u001B[49m\u001B[43mtop_antecedent_embeddings\u001B[49m\u001B[43m,\u001B[49m\u001B[43m \u001B[49m\u001B[43mtop_antecedent_offsets\u001B[49m\n\u001B[1;32m    854\u001B[0m \u001B[43m\u001B[49m\u001B[43m)\u001B[49m\n\u001B[1;32m    856\u001B[0m \u001B[38;5;66;03m# Shape: (batch_size, num_spans_to_keep, max_antecedents)\u001B[39;00m\n\u001B[1;32m    857\u001B[0m antecedent_scores \u001B[38;5;241m=\u001B[39m \u001B[38;5;28mself\u001B[39m\u001B[38;5;241m.\u001B[39m_antecedent_scorer(\n\u001B[1;32m    858\u001B[0m     \u001B[38;5;28mself\u001B[39m\u001B[38;5;241m.\u001B[39m_antecedent_feedforward(span_pair_embeddings)\n\u001B[1;32m    859\u001B[0m )\u001B[38;5;241m.\u001B[39msqueeze(\u001B[38;5;241m-\u001B[39m\u001B[38;5;241m1\u001B[39m)\n",
      "File \u001B[0;32m~/miniforge3/envs/irtm/lib/python3.9/site-packages/allennlp_models/coref/models/coref.py:755\u001B[0m, in \u001B[0;36mCoreferenceResolver._compute_span_pair_embeddings\u001B[0;34m(self, top_span_embeddings, antecedent_embeddings, antecedent_offsets)\u001B[0m\n\u001B[1;32m    750\u001B[0m antecedent_distance_embeddings \u001B[38;5;241m=\u001B[39m \u001B[38;5;28mself\u001B[39m\u001B[38;5;241m.\u001B[39m_distance_embedding(\n\u001B[1;32m    751\u001B[0m     util\u001B[38;5;241m.\u001B[39mbucket_values(antecedent_offsets, num_total_buckets\u001B[38;5;241m=\u001B[39m\u001B[38;5;28mself\u001B[39m\u001B[38;5;241m.\u001B[39m_num_distance_buckets)\n\u001B[1;32m    752\u001B[0m )\n\u001B[1;32m    754\u001B[0m \u001B[38;5;66;03m# Shape: (batch_size, num_spans_to_keep, max_antecedents, embedding_size)\u001B[39;00m\n\u001B[0;32m--> 755\u001B[0m span_pair_embeddings \u001B[38;5;241m=\u001B[39m \u001B[43mtorch\u001B[49m\u001B[38;5;241;43m.\u001B[39;49m\u001B[43mcat\u001B[49m\u001B[43m(\u001B[49m\n\u001B[1;32m    756\u001B[0m \u001B[43m    \u001B[49m\u001B[43m[\u001B[49m\n\u001B[1;32m    757\u001B[0m \u001B[43m        \u001B[49m\u001B[43mtarget_embeddings\u001B[49m\u001B[43m,\u001B[49m\n\u001B[1;32m    758\u001B[0m \u001B[43m        \u001B[49m\u001B[43mantecedent_embeddings\u001B[49m\u001B[43m,\u001B[49m\n\u001B[1;32m    759\u001B[0m \u001B[43m        \u001B[49m\u001B[43mantecedent_embeddings\u001B[49m\u001B[43m \u001B[49m\u001B[38;5;241;43m*\u001B[39;49m\u001B[43m \u001B[49m\u001B[43mtarget_embeddings\u001B[49m\u001B[43m,\u001B[49m\n\u001B[1;32m    760\u001B[0m \u001B[43m        \u001B[49m\u001B[43mantecedent_distance_embeddings\u001B[49m\u001B[43m,\u001B[49m\n\u001B[1;32m    761\u001B[0m \u001B[43m    \u001B[49m\u001B[43m]\u001B[49m\u001B[43m,\u001B[49m\n\u001B[1;32m    762\u001B[0m \u001B[43m    \u001B[49m\u001B[38;5;241;43m-\u001B[39;49m\u001B[38;5;241;43m1\u001B[39;49m\u001B[43m,\u001B[49m\n\u001B[1;32m    763\u001B[0m \u001B[43m\u001B[49m\u001B[43m)\u001B[49m\n\u001B[1;32m    764\u001B[0m \u001B[38;5;28;01mreturn\u001B[39;00m span_pair_embeddings\n",
      "\u001B[0;31mKeyboardInterrupt\u001B[0m: "
     ]
    }
   ],
   "source": [
    "span_predictions = pd.DataFrame(columns=[\"book\", \"chapter\", \"top_spans\", \"antecedent_indices\", \"predicted_antecedents\", \"document\", \"clusters\"])\n",
    "# TODO: really slow => use batches\n",
    "for idx, (book, chapter, text) in text_df[[\"book\", \"chapter\", \"text\"]].iterrows():\n",
    "    prediction = predictor.predict(text)\n",
    "    span_predictions.loc[idx] = pd.Series({\n",
    "        \"book\": book,\n",
    "        \"chapter\": chapter,\n",
    "        \"top_spans\": prediction[\"top_spans\"],\n",
    "        \"antecedent_indices\": prediction[\"antecedent_indices\"],\n",
    "        \"predicted_antecedents\": prediction[\"predicted_antecedents\"],\n",
    "        \"document\": prediction[\"document\"],\n",
    "        \"clusters\": prediction[\"clusters\"]\n",
    "    })"
   ],
   "metadata": {
    "collapsed": false,
    "pycharm": {
     "name": "#%%\n"
    }
   }
  },
  {
   "cell_type": "code",
   "execution_count": 63,
   "outputs": [],
   "source": [
    "span_predictions.to_csv(\"spanbert_coref.csv\")"
   ],
   "metadata": {
    "collapsed": false,
    "pycharm": {
     "name": "#%%\n"
    }
   }
  },
  {
   "cell_type": "code",
   "execution_count": 60,
   "outputs": [],
   "source": [
    "import ast\n",
    "span_predictions = pd.read_csv(\"spanbert_coref.csv\", index_col=0)\n",
    "span_predictions.top_spans = span_predictions.top_spans.apply(ast.literal_eval)\n",
    "span_predictions.antecedent_indices = span_predictions.antecedent_indices.apply(ast.literal_eval)\n",
    "span_predictions.predicted_antecedents = span_predictions.predicted_antecedents.apply(ast.literal_eval)\n",
    "span_predictions.document = span_predictions.document.apply(ast.literal_eval)\n",
    "span_predictions.clusters = span_predictions.clusters.apply(ast.literal_eval)"
   ],
   "metadata": {
    "collapsed": false,
    "pycharm": {
     "name": "#%%\n"
    }
   }
  },
  {
   "cell_type": "code",
   "execution_count": 135,
   "outputs": [],
   "source": [
    "entity_dict = pd.DataFrame(columns=[\"chapter\", \"entity_names\", \"occurrences\"])\n",
    "\n",
    "for idx, (book, chapter, _, _, _, document, clusters) in span_predictions.iterrows():\n",
    "    for cluster in clusters:\n",
    "        entity_names = set()\n",
    "        occurrences = set()\n",
    "        for entity in cluster:\n",
    "            occurrences.add((entity[0], entity[1]))\n",
    "            entity_names.add(' '.join(document[entity[0]:entity[1]+1]))\n",
    "        entity_dict.loc[entity_dict.shape[0]] = pd.Series({\n",
    "            \"chapter\": chapter,\n",
    "            \"entity_names\": list(entity_names),\n",
    "            \"occurrences\": list(occurrences)\n",
    "        })\n"
   ],
   "metadata": {
    "collapsed": false,
    "pycharm": {
     "name": "#%%\n"
    }
   }
  },
  {
   "cell_type": "code",
   "execution_count": 136,
   "outputs": [
    {
     "data": {
      "text/plain": "                                               sim_set\n0                                             {A Gold}\n1    {the Solar System, —a Solar System, A Solar Sy...\n2                                         {Academians}\n3                                            {Academy}\n4                                           {Achilles}\n..                                                 ...\n994                                 {the green canyon}\n995                                 {the green plains}\n996                                  {the north Metas}\n997                       {the twelve Olympic Knights}\n998                                  {this First Year}\n\n[999 rows x 1 columns]",
      "text/html": "<div>\n<style scoped>\n    .dataframe tbody tr th:only-of-type {\n        vertical-align: middle;\n    }\n\n    .dataframe tbody tr th {\n        vertical-align: top;\n    }\n\n    .dataframe thead th {\n        text-align: right;\n    }\n</style>\n<table border=\"1\" class=\"dataframe\">\n  <thead>\n    <tr style=\"text-align: right;\">\n      <th></th>\n      <th>sim_set</th>\n    </tr>\n  </thead>\n  <tbody>\n    <tr>\n      <th>0</th>\n      <td>{A Gold}</td>\n    </tr>\n    <tr>\n      <th>1</th>\n      <td>{the Solar System, —a Solar System, A Solar Sy...</td>\n    </tr>\n    <tr>\n      <th>2</th>\n      <td>{Academians}</td>\n    </tr>\n    <tr>\n      <th>3</th>\n      <td>{Academy}</td>\n    </tr>\n    <tr>\n      <th>4</th>\n      <td>{Achilles}</td>\n    </tr>\n    <tr>\n      <th>...</th>\n      <td>...</td>\n    </tr>\n    <tr>\n      <th>994</th>\n      <td>{the green canyon}</td>\n    </tr>\n    <tr>\n      <th>995</th>\n      <td>{the green plains}</td>\n    </tr>\n    <tr>\n      <th>996</th>\n      <td>{the north Metas}</td>\n    </tr>\n    <tr>\n      <th>997</th>\n      <td>{the twelve Olympic Knights}</td>\n    </tr>\n    <tr>\n      <th>998</th>\n      <td>{this First Year}</td>\n    </tr>\n  </tbody>\n</table>\n<p>999 rows × 1 columns</p>\n</div>"
     },
     "execution_count": 136,
     "metadata": {},
     "output_type": "execute_result"
    }
   ],
   "source": [
    "sim_sets_df = pd.DataFrame({\"sim_set\": sim_sets})\n",
    "sim_sets_df"
   ],
   "metadata": {
    "collapsed": false,
    "pycharm": {
     "name": "#%%\n"
    }
   }
  },
  {
   "cell_type": "code",
   "execution_count": 137,
   "outputs": [],
   "source": [
    "def find_entity(list1, list2):\n",
    "    return bool(set(list1).intersection(list2))\n",
    "\n",
    "# finding entities found by spanbert in normalized entity lists\n",
    "# index (spanbert) -> value (stanfordnlp)\n",
    "entity_map = entity_dict.entity_names.apply(lambda x: sim_sets_df.sim_set[sim_sets_df.sim_set.apply(lambda y: find_entity(x, y))].index.values)"
   ],
   "metadata": {
    "collapsed": false,
    "pycharm": {
     "name": "#%%\n"
    }
   }
  },
  {
   "cell_type": "code",
   "execution_count": 138,
   "outputs": [],
   "source": [
    "entity_hits = entity_map[entity_map.apply(len) != 0]"
   ],
   "metadata": {
    "collapsed": false,
    "pycharm": {
     "name": "#%%\n"
    }
   }
  },
  {
   "cell_type": "code",
   "execution_count": 139,
   "outputs": [],
   "source": [
    "entity_hits = entity_hits.apply(lambda x: list([sim_sets_df.sim_set[idx] for idx in x][0])[0])"
   ],
   "metadata": {
    "collapsed": false,
    "pycharm": {
     "name": "#%%\n"
    }
   }
  },
  {
   "cell_type": "code",
   "execution_count": 141,
   "outputs": [],
   "source": [
    "entity_hits = pd.DataFrame({\"entity\": entity_hits.to_list(), \"span_idx\": entity_hits.index.to_list()}).groupby(\"entity\")[\"span_idx\"].apply(list)"
   ],
   "metadata": {
    "collapsed": false,
    "pycharm": {
     "name": "#%%\n"
    }
   }
  },
  {
   "cell_type": "code",
   "execution_count": 143,
   "outputs": [],
   "source": [
    "def join_occur(idx_list):\n",
    "    occur = {}\n",
    "    for idx in idx_list:\n",
    "        chapter = entity_dict.chapter.loc[idx]\n",
    "        occur[chapter] = entity_dict.occurrences.loc[idx]\n",
    "    return occur\n",
    "\n",
    "def get_chapters(idx_list):\n",
    "    chpts = []\n",
    "    for idx in idx_list:\n",
    "        chpts.append(entity_dict.chapter.loc[idx])\n",
    "    return chpts\n",
    "\n",
    "entity_hits_df = pd.DataFrame(entity_hits)\n",
    "entity_hits_df[\"occurrences\"] = entity_hits.apply(join_occur)\n",
    "entity_hits_df[\"chapters\"] = entity_hits.apply(get_chapters)"
   ],
   "metadata": {
    "collapsed": false,
    "pycharm": {
     "name": "#%%\n"
    }
   }
  },
  {
   "cell_type": "code",
   "execution_count": 145,
   "outputs": [],
   "source": [
    "t = pd.DataFrame(entity_hits_df.chapters.apply(lambda x: text_df.chapter.apply(lambda y: y in x)))\n",
    "t.columns = text_df.chapter\n",
    "entity_hits_df = entity_hits_df.join(t).drop([\"chapters\", \"span_idx\"], axis=1)"
   ],
   "metadata": {
    "collapsed": false,
    "pycharm": {
     "name": "#%%\n"
    }
   }
  },
  {
   "cell_type": "code",
   "execution_count": 95,
   "outputs": [],
   "source": [
    "chapter_hits = entity_hits_df.drop(\"occurrences\", axis=1)\n",
    "# mask = chapter_hits.copy()\n",
    "# chapter_hits[mask] = 1\n",
    "# chapter_hits[~mask] = 0\n",
    "entity_cross_matrix = pd.DataFrame(columns=[\"source\", \"target\", \"weight\"])\n",
    "for idx in chapter_hits.index.to_list():\n",
    "    for idy in chapter_hits.index.to_list():\n",
    "        if idx == idy:\n",
    "            continue\n",
    "        weight = sum(chapter_hits.loc[idy] & chapter_hits.loc[idx])\n",
    "        if weight < 1 or entity_cross_matrix.source.isin([idy]).sum() > 15:\n",
    "            continue\n",
    "        entity_cross_matrix.loc[entity_cross_matrix.shape[0]] = pd.Series({\n",
    "            \"source\": idx,\n",
    "            \"target\": idy,\n",
    "            \"weight\": weight\n",
    "        })\n",
    "entity_cross_matrix.to_csv(\"../entity_hits_1.csv\", index=False)\n",
    "# chapter_hits.to_csv(\"../entity_hits.csv\")"
   ],
   "metadata": {
    "collapsed": false,
    "pycharm": {
     "name": "#%%\n"
    }
   }
  },
  {
   "cell_type": "code",
   "execution_count": 96,
   "outputs": [
    {
     "data": {
      "text/plain": "(6093, 3)"
     },
     "execution_count": 96,
     "metadata": {},
     "output_type": "execute_result"
    }
   ],
   "source": [
    "entity_cross_matrix.shape"
   ],
   "metadata": {
    "collapsed": false,
    "pycharm": {
     "name": "#%%\n"
    }
   }
  },
  {
   "cell_type": "code",
   "execution_count": 165,
   "outputs": [],
   "source": [
    "chpt_occur_df = pd.DataFrame(entity_hits_df.occurrences.apply(pd.Series))\n",
    "chpt_occur_df.fillna(False, inplace=True)"
   ],
   "metadata": {
    "collapsed": false,
    "pycharm": {
     "name": "#%%\n"
    }
   }
  },
  {
   "cell_type": "code",
   "execution_count": 187,
   "outputs": [],
   "source": [
    "window_size = 10  # 0=whole chapter, else #words\n",
    "window_stride = 8\n",
    "max_window_size = span_predictions.document.apply(len).max()\n",
    "\n",
    "cur_window = 0\n",
    "\n",
    "def in_window(locations) -> bool:\n",
    "    if not locations:\n",
    "        return False\n",
    "    for loc in locations:\n",
    "     if cur_window < loc[0] < cur_window + window_size: #or cur_window < loc[1] < cur_window + window_size:\n",
    "         return True\n",
    "    return False\n",
    "\n",
    "window_df = {}\n",
    "while cur_window < max_window_size:\n",
    "    window_df[\"window_\" + str(cur_window)] = chpt_occur_df.applymap(lambda x: in_window(x))\n",
    "    cur_window += window_stride\n",
    "# window_df = pd.DataFrame(window_df)"
   ],
   "metadata": {
    "collapsed": false,
    "pycharm": {
     "name": "#%%\n"
    }
   }
  },
  {
   "cell_type": "code",
   "execution_count": 183,
   "outputs": [
    {
     "data": {
      "text/plain": "                      8_Alliance  36_Lord_of_War  42_Death_of_a_Gold  \\\nentity                                                                 \nAchilles                   False           False               False   \nAdrius                     False           False               False   \nAdrius au Augustus         False           False               False   \nAgea                       False           False               False   \nAgrippina                  False           False               False   \n...                          ...             ...                 ...   \nthe Triumph Mask           False           False               False   \nthe Valles Marineris       False           False               False   \nthe Victory Armor          False           False               False   \nthe green canyon           False           False               False   \nthe green plains           False           False               False   \n\n                      34_The_Northwoods  7_The_Afterbirth  9_The_Darkness  \\\nentity                                                                      \nAchilles                          False             False           False   \nAdrius                            False             False           False   \nAdrius au Augustus                False             False           False   \nAgea                              False             False           False   \nAgrippina                         False             False           False   \n...                                 ...               ...             ...   \nthe Triumph Mask                  False             False           False   \nthe Valles Marineris              False             False           False   \nthe Victory Armor                 False             False           False   \nthe green canyon                  False             False           False   \nthe green plains                  False             False           False   \n\n                      11_Red  27_Jelly_Beans  33_A_Dance  45_Helldivers  ...  \\\nentity                                                                   ...   \nAchilles               False           False       False          False  ...   \nAdrius                 False           False       False          False  ...   \nAdrius au Augustus     False           False       False          False  ...   \nAgea                   False           False       False          False  ...   \nAgrippina              False           False       False          False  ...   \n...                      ...             ...         ...            ...  ...   \nthe Triumph Mask       False           False       False          False  ...   \nthe Valles Marineris   False           False       False          False  ...   \nthe Victory Armor      False           False       False          False  ...   \nthe green canyon       False           False       False          False  ...   \nthe green plains       False           False       False          False  ...   \n\n                      43_The_Sea  36_A_Second_Test  17_What_the_Storm_Brings  \\\nentity                                                                         \nAchilles                   False             False                     False   \nAdrius                     False             False                     False   \nAdrius au Augustus         False             False                     False   \nAgea                       False             False                     False   \nAgrippina                  False             False                     False   \n...                          ...               ...                       ...   \nthe Triumph Mask           False             False                     False   \nthe Valles Marineris       False             False                     False   \nthe Victory Armor          False             False                     False   \nthe green canyon           False             False                     False   \nthe green plains           False             False                     False   \n\n                      44_The_Poet  2_The_Township  9_The_Lie  14_Andromedus  \\\nentity                                                                        \nAchilles                    False           False      False          False   \nAdrius                      False           False      False          False   \nAdrius au Augustus          False           False      False          False   \nAgea                        False           False      False          False   \nAgrippina                   False           False      False          False   \n...                           ...             ...        ...            ...   \nthe Triumph Mask            False           False      False          False   \nthe Valles Marineris        False           False      False          False   \nthe Victory Armor           False           False      False          False   \nthe green canyon            False           False      False          False   \nthe green plains            False           False      False          False   \n\n                      4_The_Gift  49_Why_We_Sing  16_The_Game  \nentity                                                         \nAchilles                   False           False        False  \nAdrius                     False           False        False  \nAdrius au Augustus         False           False        False  \nAgea                       False           False        False  \nAgrippina                  False           False        False  \n...                          ...             ...          ...  \nthe Triumph Mask           False           False        False  \nthe Valles Marineris       False           False        False  \nthe Victory Armor          False           False        False  \nthe green canyon           False           False        False  \nthe green plains           False           False        False  \n\n[302 rows x 95 columns]",
      "text/html": "<div>\n<style scoped>\n    .dataframe tbody tr th:only-of-type {\n        vertical-align: middle;\n    }\n\n    .dataframe tbody tr th {\n        vertical-align: top;\n    }\n\n    .dataframe thead th {\n        text-align: right;\n    }\n</style>\n<table border=\"1\" class=\"dataframe\">\n  <thead>\n    <tr style=\"text-align: right;\">\n      <th></th>\n      <th>8_Alliance</th>\n      <th>36_Lord_of_War</th>\n      <th>42_Death_of_a_Gold</th>\n      <th>34_The_Northwoods</th>\n      <th>7_The_Afterbirth</th>\n      <th>9_The_Darkness</th>\n      <th>11_Red</th>\n      <th>27_Jelly_Beans</th>\n      <th>33_A_Dance</th>\n      <th>45_Helldivers</th>\n      <th>...</th>\n      <th>43_The_Sea</th>\n      <th>36_A_Second_Test</th>\n      <th>17_What_the_Storm_Brings</th>\n      <th>44_The_Poet</th>\n      <th>2_The_Township</th>\n      <th>9_The_Lie</th>\n      <th>14_Andromedus</th>\n      <th>4_The_Gift</th>\n      <th>49_Why_We_Sing</th>\n      <th>16_The_Game</th>\n    </tr>\n    <tr>\n      <th>entity</th>\n      <th></th>\n      <th></th>\n      <th></th>\n      <th></th>\n      <th></th>\n      <th></th>\n      <th></th>\n      <th></th>\n      <th></th>\n      <th></th>\n      <th></th>\n      <th></th>\n      <th></th>\n      <th></th>\n      <th></th>\n      <th></th>\n      <th></th>\n      <th></th>\n      <th></th>\n      <th></th>\n      <th></th>\n    </tr>\n  </thead>\n  <tbody>\n    <tr>\n      <th>Achilles</th>\n      <td>False</td>\n      <td>False</td>\n      <td>False</td>\n      <td>False</td>\n      <td>False</td>\n      <td>False</td>\n      <td>False</td>\n      <td>False</td>\n      <td>False</td>\n      <td>False</td>\n      <td>...</td>\n      <td>False</td>\n      <td>False</td>\n      <td>False</td>\n      <td>False</td>\n      <td>False</td>\n      <td>False</td>\n      <td>False</td>\n      <td>False</td>\n      <td>False</td>\n      <td>False</td>\n    </tr>\n    <tr>\n      <th>Adrius</th>\n      <td>False</td>\n      <td>False</td>\n      <td>False</td>\n      <td>False</td>\n      <td>False</td>\n      <td>False</td>\n      <td>False</td>\n      <td>False</td>\n      <td>False</td>\n      <td>False</td>\n      <td>...</td>\n      <td>False</td>\n      <td>False</td>\n      <td>False</td>\n      <td>False</td>\n      <td>False</td>\n      <td>False</td>\n      <td>False</td>\n      <td>False</td>\n      <td>False</td>\n      <td>False</td>\n    </tr>\n    <tr>\n      <th>Adrius au Augustus</th>\n      <td>False</td>\n      <td>False</td>\n      <td>False</td>\n      <td>False</td>\n      <td>False</td>\n      <td>False</td>\n      <td>False</td>\n      <td>False</td>\n      <td>False</td>\n      <td>False</td>\n      <td>...</td>\n      <td>False</td>\n      <td>False</td>\n      <td>False</td>\n      <td>False</td>\n      <td>False</td>\n      <td>False</td>\n      <td>False</td>\n      <td>False</td>\n      <td>False</td>\n      <td>False</td>\n    </tr>\n    <tr>\n      <th>Agea</th>\n      <td>False</td>\n      <td>False</td>\n      <td>False</td>\n      <td>False</td>\n      <td>False</td>\n      <td>False</td>\n      <td>False</td>\n      <td>False</td>\n      <td>False</td>\n      <td>False</td>\n      <td>...</td>\n      <td>False</td>\n      <td>False</td>\n      <td>False</td>\n      <td>False</td>\n      <td>False</td>\n      <td>False</td>\n      <td>False</td>\n      <td>False</td>\n      <td>False</td>\n      <td>False</td>\n    </tr>\n    <tr>\n      <th>Agrippina</th>\n      <td>False</td>\n      <td>False</td>\n      <td>False</td>\n      <td>False</td>\n      <td>False</td>\n      <td>False</td>\n      <td>False</td>\n      <td>False</td>\n      <td>False</td>\n      <td>False</td>\n      <td>...</td>\n      <td>False</td>\n      <td>False</td>\n      <td>False</td>\n      <td>False</td>\n      <td>False</td>\n      <td>False</td>\n      <td>False</td>\n      <td>False</td>\n      <td>False</td>\n      <td>False</td>\n    </tr>\n    <tr>\n      <th>...</th>\n      <td>...</td>\n      <td>...</td>\n      <td>...</td>\n      <td>...</td>\n      <td>...</td>\n      <td>...</td>\n      <td>...</td>\n      <td>...</td>\n      <td>...</td>\n      <td>...</td>\n      <td>...</td>\n      <td>...</td>\n      <td>...</td>\n      <td>...</td>\n      <td>...</td>\n      <td>...</td>\n      <td>...</td>\n      <td>...</td>\n      <td>...</td>\n      <td>...</td>\n      <td>...</td>\n    </tr>\n    <tr>\n      <th>the Triumph Mask</th>\n      <td>False</td>\n      <td>False</td>\n      <td>False</td>\n      <td>False</td>\n      <td>False</td>\n      <td>False</td>\n      <td>False</td>\n      <td>False</td>\n      <td>False</td>\n      <td>False</td>\n      <td>...</td>\n      <td>False</td>\n      <td>False</td>\n      <td>False</td>\n      <td>False</td>\n      <td>False</td>\n      <td>False</td>\n      <td>False</td>\n      <td>False</td>\n      <td>False</td>\n      <td>False</td>\n    </tr>\n    <tr>\n      <th>the Valles Marineris</th>\n      <td>False</td>\n      <td>False</td>\n      <td>False</td>\n      <td>False</td>\n      <td>False</td>\n      <td>False</td>\n      <td>False</td>\n      <td>False</td>\n      <td>False</td>\n      <td>False</td>\n      <td>...</td>\n      <td>False</td>\n      <td>False</td>\n      <td>False</td>\n      <td>False</td>\n      <td>False</td>\n      <td>False</td>\n      <td>False</td>\n      <td>False</td>\n      <td>False</td>\n      <td>False</td>\n    </tr>\n    <tr>\n      <th>the Victory Armor</th>\n      <td>False</td>\n      <td>False</td>\n      <td>False</td>\n      <td>False</td>\n      <td>False</td>\n      <td>False</td>\n      <td>False</td>\n      <td>False</td>\n      <td>False</td>\n      <td>False</td>\n      <td>...</td>\n      <td>False</td>\n      <td>False</td>\n      <td>False</td>\n      <td>False</td>\n      <td>False</td>\n      <td>False</td>\n      <td>False</td>\n      <td>False</td>\n      <td>False</td>\n      <td>False</td>\n    </tr>\n    <tr>\n      <th>the green canyon</th>\n      <td>False</td>\n      <td>False</td>\n      <td>False</td>\n      <td>False</td>\n      <td>False</td>\n      <td>False</td>\n      <td>False</td>\n      <td>False</td>\n      <td>False</td>\n      <td>False</td>\n      <td>...</td>\n      <td>False</td>\n      <td>False</td>\n      <td>False</td>\n      <td>False</td>\n      <td>False</td>\n      <td>False</td>\n      <td>False</td>\n      <td>False</td>\n      <td>False</td>\n      <td>False</td>\n    </tr>\n    <tr>\n      <th>the green plains</th>\n      <td>False</td>\n      <td>False</td>\n      <td>False</td>\n      <td>False</td>\n      <td>False</td>\n      <td>False</td>\n      <td>False</td>\n      <td>False</td>\n      <td>False</td>\n      <td>False</td>\n      <td>...</td>\n      <td>False</td>\n      <td>False</td>\n      <td>False</td>\n      <td>False</td>\n      <td>False</td>\n      <td>False</td>\n      <td>False</td>\n      <td>False</td>\n      <td>False</td>\n      <td>False</td>\n    </tr>\n  </tbody>\n</table>\n<p>302 rows × 95 columns</p>\n</div>"
     },
     "execution_count": 183,
     "metadata": {},
     "output_type": "execute_result"
    }
   ],
   "source": [
    "window_df['window_0']"
   ],
   "metadata": {
    "collapsed": false,
    "pycharm": {
     "name": "#%%\n"
    }
   }
  },
  {
   "cell_type": "code",
   "execution_count": 192,
   "outputs": [
    {
     "data": {
      "text/plain": "90902"
     },
     "execution_count": 192,
     "metadata": {},
     "output_type": "execute_result"
    }
   ],
   "source": [
    "entity_list = []\n",
    "for idx in chapter_hits.index.to_list():\n",
    "    for idy in chapter_hits.index.to_list():\n",
    "        if idx == idy:\n",
    "            continue\n",
    "        entity_list.append((idx, idy))\n",
    "len(entity_list)"
   ],
   "metadata": {
    "collapsed": false,
    "pycharm": {
     "name": "#%%\n"
    }
   }
  },
  {
   "cell_type": "code",
   "execution_count": 199,
   "outputs": [
    {
     "data": {
      "text/plain": "                    8_Alliance  36_Lord_of_War  42_Death_of_a_Gold  \\\nentity                                                               \nAchilles                 False           False               False   \nAdrius                   False           False               False   \nAdrius au Augustus       False           False               False   \nAgea                     False           False               False   \nAgrippina                False           False               False   \n\n                    34_The_Northwoods  7_The_Afterbirth  9_The_Darkness  \\\nentity                                                                    \nAchilles                        False             False           False   \nAdrius                          False             False           False   \nAdrius au Augustus              False             False           False   \nAgea                            False             False           False   \nAgrippina                       False             False           False   \n\n                    11_Red  27_Jelly_Beans  33_A_Dance  45_Helldivers  ...  \\\nentity                                                                 ...   \nAchilles             False           False       False          False  ...   \nAdrius               False           False       False          False  ...   \nAdrius au Augustus   False           False       False          False  ...   \nAgea                 False           False       False          False  ...   \nAgrippina            False           False       False          False  ...   \n\n                    43_The_Sea  36_A_Second_Test  17_What_the_Storm_Brings  \\\nentity                                                                       \nAchilles                 False             False                     False   \nAdrius                   False             False                     False   \nAdrius au Augustus       False             False                     False   \nAgea                     False             False                     False   \nAgrippina                False             False                     False   \n\n                    44_The_Poet  2_The_Township  9_The_Lie  14_Andromedus  \\\nentity                                                                      \nAchilles                  False           False      False          False   \nAdrius                    False           False      False          False   \nAdrius au Augustus        False           False      False          False   \nAgea                      False           False      False          False   \nAgrippina                 False           False      False          False   \n\n                    4_The_Gift  49_Why_We_Sing  16_The_Game  \nentity                                                       \nAchilles                 False           False        False  \nAdrius                   False           False        False  \nAdrius au Augustus       False           False        False  \nAgea                     False           False        False  \nAgrippina                False           False        False  \n\n[5 rows x 93860 columns]",
      "text/html": "<div>\n<style scoped>\n    .dataframe tbody tr th:only-of-type {\n        vertical-align: middle;\n    }\n\n    .dataframe tbody tr th {\n        vertical-align: top;\n    }\n\n    .dataframe thead th {\n        text-align: right;\n    }\n</style>\n<table border=\"1\" class=\"dataframe\">\n  <thead>\n    <tr style=\"text-align: right;\">\n      <th></th>\n      <th>8_Alliance</th>\n      <th>36_Lord_of_War</th>\n      <th>42_Death_of_a_Gold</th>\n      <th>34_The_Northwoods</th>\n      <th>7_The_Afterbirth</th>\n      <th>9_The_Darkness</th>\n      <th>11_Red</th>\n      <th>27_Jelly_Beans</th>\n      <th>33_A_Dance</th>\n      <th>45_Helldivers</th>\n      <th>...</th>\n      <th>43_The_Sea</th>\n      <th>36_A_Second_Test</th>\n      <th>17_What_the_Storm_Brings</th>\n      <th>44_The_Poet</th>\n      <th>2_The_Township</th>\n      <th>9_The_Lie</th>\n      <th>14_Andromedus</th>\n      <th>4_The_Gift</th>\n      <th>49_Why_We_Sing</th>\n      <th>16_The_Game</th>\n    </tr>\n    <tr>\n      <th>entity</th>\n      <th></th>\n      <th></th>\n      <th></th>\n      <th></th>\n      <th></th>\n      <th></th>\n      <th></th>\n      <th></th>\n      <th></th>\n      <th></th>\n      <th></th>\n      <th></th>\n      <th></th>\n      <th></th>\n      <th></th>\n      <th></th>\n      <th></th>\n      <th></th>\n      <th></th>\n      <th></th>\n      <th></th>\n    </tr>\n  </thead>\n  <tbody>\n    <tr>\n      <th>Achilles</th>\n      <td>False</td>\n      <td>False</td>\n      <td>False</td>\n      <td>False</td>\n      <td>False</td>\n      <td>False</td>\n      <td>False</td>\n      <td>False</td>\n      <td>False</td>\n      <td>False</td>\n      <td>...</td>\n      <td>False</td>\n      <td>False</td>\n      <td>False</td>\n      <td>False</td>\n      <td>False</td>\n      <td>False</td>\n      <td>False</td>\n      <td>False</td>\n      <td>False</td>\n      <td>False</td>\n    </tr>\n    <tr>\n      <th>Adrius</th>\n      <td>False</td>\n      <td>False</td>\n      <td>False</td>\n      <td>False</td>\n      <td>False</td>\n      <td>False</td>\n      <td>False</td>\n      <td>False</td>\n      <td>False</td>\n      <td>False</td>\n      <td>...</td>\n      <td>False</td>\n      <td>False</td>\n      <td>False</td>\n      <td>False</td>\n      <td>False</td>\n      <td>False</td>\n      <td>False</td>\n      <td>False</td>\n      <td>False</td>\n      <td>False</td>\n    </tr>\n    <tr>\n      <th>Adrius au Augustus</th>\n      <td>False</td>\n      <td>False</td>\n      <td>False</td>\n      <td>False</td>\n      <td>False</td>\n      <td>False</td>\n      <td>False</td>\n      <td>False</td>\n      <td>False</td>\n      <td>False</td>\n      <td>...</td>\n      <td>False</td>\n      <td>False</td>\n      <td>False</td>\n      <td>False</td>\n      <td>False</td>\n      <td>False</td>\n      <td>False</td>\n      <td>False</td>\n      <td>False</td>\n      <td>False</td>\n    </tr>\n    <tr>\n      <th>Agea</th>\n      <td>False</td>\n      <td>False</td>\n      <td>False</td>\n      <td>False</td>\n      <td>False</td>\n      <td>False</td>\n      <td>False</td>\n      <td>False</td>\n      <td>False</td>\n      <td>False</td>\n      <td>...</td>\n      <td>False</td>\n      <td>False</td>\n      <td>False</td>\n      <td>False</td>\n      <td>False</td>\n      <td>False</td>\n      <td>False</td>\n      <td>False</td>\n      <td>False</td>\n      <td>False</td>\n    </tr>\n    <tr>\n      <th>Agrippina</th>\n      <td>False</td>\n      <td>False</td>\n      <td>False</td>\n      <td>False</td>\n      <td>False</td>\n      <td>False</td>\n      <td>False</td>\n      <td>False</td>\n      <td>False</td>\n      <td>False</td>\n      <td>...</td>\n      <td>False</td>\n      <td>False</td>\n      <td>False</td>\n      <td>False</td>\n      <td>False</td>\n      <td>False</td>\n      <td>False</td>\n      <td>False</td>\n      <td>False</td>\n      <td>False</td>\n    </tr>\n  </tbody>\n</table>\n<p>5 rows × 93860 columns</p>\n</div>"
     },
     "execution_count": 199,
     "metadata": {},
     "output_type": "execute_result"
    }
   ],
   "source": [
    "entity_cross_list = []\n",
    "\n",
    "t = pd.concat(list(window_df.values()), axis=1)\n",
    "t.head()"
   ],
   "metadata": {
    "collapsed": false,
    "pycharm": {
     "name": "#%%\n"
    }
   }
  },
  {
   "cell_type": "code",
   "execution_count": 200,
   "outputs": [],
   "source": [
    "t.columns = list(range(t.shape[1]))"
   ],
   "metadata": {
    "collapsed": false,
    "pycharm": {
     "name": "#%%\n"
    }
   }
  },
  {
   "cell_type": "code",
   "execution_count": 203,
   "outputs": [],
   "source": [
    "entity_cross_matrix = pd.DataFrame(columns=[\"source\", \"target\", \"weight\"])\n",
    "columns = list(range(t.shape[1]))\n",
    "for idx, idy in entity_list:\n",
    "    if entity_cross_matrix.source.isin([idy]).sum() > 0:\n",
    "        continue\n",
    "\n",
    "    weight = sum(t.loc[idy] & t.loc[idx])\n",
    "    if weight < 0:\n",
    "        continue\n",
    "    entity_cross_matrix.loc[entity_cross_matrix.shape[0]] = pd.Series({\n",
    "        \"source\": idx,\n",
    "        \"target\": idy,\n",
    "        \"weight\": weight\n",
    "    })\n",
    "# entity_cross_matrix.to_csv(\"../entity_hits_%i.csv\" % window_size, index=False)"
   ],
   "metadata": {
    "collapsed": false,
    "pycharm": {
     "name": "#%%\n"
    }
   }
  },
  {
   "cell_type": "code",
   "execution_count": 204,
   "outputs": [
    {
     "data": {
      "text/plain": "     source              target weight\n0  Achilles              Adrius      1\n1  Achilles  Adrius au Augustus      0\n2  Achilles                Agea      0\n3  Achilles           Agrippina      0\n4  Achilles  Agrippina au Julii      0",
      "text/html": "<div>\n<style scoped>\n    .dataframe tbody tr th:only-of-type {\n        vertical-align: middle;\n    }\n\n    .dataframe tbody tr th {\n        vertical-align: top;\n    }\n\n    .dataframe thead th {\n        text-align: right;\n    }\n</style>\n<table border=\"1\" class=\"dataframe\">\n  <thead>\n    <tr style=\"text-align: right;\">\n      <th></th>\n      <th>source</th>\n      <th>target</th>\n      <th>weight</th>\n    </tr>\n  </thead>\n  <tbody>\n    <tr>\n      <th>0</th>\n      <td>Achilles</td>\n      <td>Adrius</td>\n      <td>1</td>\n    </tr>\n    <tr>\n      <th>1</th>\n      <td>Achilles</td>\n      <td>Adrius au Augustus</td>\n      <td>0</td>\n    </tr>\n    <tr>\n      <th>2</th>\n      <td>Achilles</td>\n      <td>Agea</td>\n      <td>0</td>\n    </tr>\n    <tr>\n      <th>3</th>\n      <td>Achilles</td>\n      <td>Agrippina</td>\n      <td>0</td>\n    </tr>\n    <tr>\n      <th>4</th>\n      <td>Achilles</td>\n      <td>Agrippina au Julii</td>\n      <td>0</td>\n    </tr>\n  </tbody>\n</table>\n</div>"
     },
     "execution_count": 204,
     "metadata": {},
     "output_type": "execute_result"
    }
   ],
   "source": [
    "entity_cross_matrix.head()"
   ],
   "metadata": {
    "collapsed": false,
    "pycharm": {
     "name": "#%%\n"
    }
   }
  },
  {
   "cell_type": "code",
   "execution_count": 208,
   "outputs": [],
   "source": [
    "entity_cross_matrix[entity_cross_matrix.weight > 10].to_csv(\"../entity_hits_final_2.csv\", index=False)"
   ],
   "metadata": {
    "collapsed": false,
    "pycharm": {
     "name": "#%%\n"
    }
   }
  },
  {
   "cell_type": "code",
   "execution_count": 222,
   "outputs": [],
   "source": [
    "combined_hits_df.to_csv(\"../combined_hits.csv\")"
   ],
   "metadata": {
    "collapsed": false,
    "pycharm": {
     "name": "#%%\n"
    }
   }
  }
 ],
 "metadata": {
  "kernelspec": {
   "display_name": "Python 3",
   "language": "python",
   "name": "python3"
  },
  "language_info": {
   "codemirror_mode": {
    "name": "ipython",
    "version": 2
   },
   "file_extension": ".py",
   "mimetype": "text/x-python",
   "name": "python",
   "nbconvert_exporter": "python",
   "pygments_lexer": "ipython2",
   "version": "2.7.6"
  }
 },
 "nbformat": 4,
 "nbformat_minor": 0
}